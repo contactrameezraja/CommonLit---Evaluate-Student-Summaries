{
 "cells": [
  {
   "cell_type": "code",
   "execution_count": 1,
   "id": "117d8ce5",
   "metadata": {
    "execution": {
     "iopub.execute_input": "2023-08-05T16:09:10.842533Z",
     "iopub.status.busy": "2023-08-05T16:09:10.841957Z",
     "iopub.status.idle": "2023-08-05T16:09:28.095920Z",
     "shell.execute_reply": "2023-08-05T16:09:28.094856Z"
    },
    "papermill": {
     "duration": 17.264561,
     "end_time": "2023-08-05T16:09:28.098665",
     "exception": false,
     "start_time": "2023-08-05T16:09:10.834104",
     "status": "completed"
    },
    "tags": []
   },
   "outputs": [
    {
     "name": "stderr",
     "output_type": "stream",
     "text": [
      "/opt/conda/lib/python3.10/site-packages/scipy/__init__.py:146: UserWarning: A NumPy version >=1.16.5 and <1.23.0 is required for this version of SciPy (detected version 1.23.5\n",
      "  warnings.warn(f\"A NumPy version >={np_minversion} and <{np_maxversion}\"\n",
      "/opt/conda/lib/python3.10/site-packages/tensorflow_io/python/ops/__init__.py:98: UserWarning: unable to load libtensorflow_io_plugins.so: unable to open file: libtensorflow_io_plugins.so, from paths: ['/opt/conda/lib/python3.10/site-packages/tensorflow_io/python/ops/libtensorflow_io_plugins.so']\n",
      "caused by: ['/opt/conda/lib/python3.10/site-packages/tensorflow_io/python/ops/libtensorflow_io_plugins.so: undefined symbol: _ZN3tsl6StatusC1EN10tensorflow5error4CodeESt17basic_string_viewIcSt11char_traitsIcEENS_14SourceLocationE']\n",
      "  warnings.warn(f\"unable to load libtensorflow_io_plugins.so: {e}\")\n",
      "/opt/conda/lib/python3.10/site-packages/tensorflow_io/python/ops/__init__.py:104: UserWarning: file system plugins are not loaded: unable to open file: libtensorflow_io.so, from paths: ['/opt/conda/lib/python3.10/site-packages/tensorflow_io/python/ops/libtensorflow_io.so']\n",
      "caused by: ['/opt/conda/lib/python3.10/site-packages/tensorflow_io/python/ops/libtensorflow_io.so: undefined symbol: _ZTVN10tensorflow13GcsFileSystemE']\n",
      "  warnings.warn(f\"file system plugins are not loaded: {e}\")\n"
     ]
    }
   ],
   "source": [
    "import os\n",
    "import gc\n",
    "from tqdm.auto import tqdm\n",
    "import transformers\n",
    "import numpy as np \n",
    "import pandas as pd \n",
    "from torch.nn.parameter import Parameter\n",
    "import matplotlib.pyplot as plt\n",
    "import seaborn as sns\n",
    "from sklearn.metrics import mean_squared_error\n",
    "import plotly.express as px #graphing\n",
    "import plotly.graph_objects as go #graphing\n",
    "from plotly.subplots import make_subplots #graphing\n",
    "import plotly.figure_factory as ff #graphing\n",
    "\n",
    "from transformers import get_polynomial_decay_schedule_with_warmup,get_cosine_schedule_with_warmup,get_linear_schedule_with_warmup\n",
    "from transformers.tokenization_utils_base import BatchEncoding, PreTrainedTokenizerBase\n",
    "from transformers import DataCollatorWithPadding,DataCollatorForTokenClassification\n",
    "\n",
    "\n",
    "from text_unidecode import unidecode\n",
    "from typing import Dict, List, Tuple\n",
    "import codecs\n",
    "from datasets import concatenate_datasets,load_dataset,load_from_disk\n",
    "\n",
    "from sklearn.metrics import log_loss\n",
    "\n",
    "from transformers import AutoModel, AutoTokenizer, AdamW, DataCollatorWithPadding\n",
    "\n",
    "import torch \n",
    "import torch.nn as nn\n",
    "import torch.nn.functional as F\n",
    "from torch.utils.data import Dataset, DataLoader\n",
    "\n",
    "import pytorch_lightning as pl\n",
    "from pytorch_lightning import Trainer, seed_everything\n",
    "from pytorch_lightning.callbacks import ModelCheckpoint, EarlyStopping\n",
    "from sklearn.model_selection import StratifiedKFold, GroupKFold, KFold\n",
    "import time\n",
    "import warnings\n",
    "import collections\n",
    "from termcolor import colored\n",
    "\n",
    "from torch.optim import lr_scheduler\n",
    "warnings.filterwarnings(\"ignore\")\n",
    "\n"
   ]
  },
  {
   "cell_type": "code",
   "execution_count": 2,
   "id": "632d4591",
   "metadata": {
    "execution": {
     "iopub.execute_input": "2023-08-05T16:09:28.112238Z",
     "iopub.status.busy": "2023-08-05T16:09:28.111402Z",
     "iopub.status.idle": "2023-08-05T16:09:28.118840Z",
     "shell.execute_reply": "2023-08-05T16:09:28.117673Z"
    },
    "papermill": {
     "duration": 0.016109,
     "end_time": "2023-08-05T16:09:28.120789",
     "exception": false,
     "start_time": "2023-08-05T16:09:28.104680",
     "status": "completed"
    },
    "tags": []
   },
   "outputs": [],
   "source": [
    "def MCRMSE(y_trues, y_preds):\n",
    "    scores = []\n",
    "    idxes = y_trues.shape[1]\n",
    "    for i in range(idxes):\n",
    "        y_true = y_trues[:,i]#.detach().to('cpu').numpy()\n",
    "        y_pred = y_preds[:,i]#.detach().to('cpu').numpy()\n",
    "        score = mean_squared_error(y_true, y_pred, squared=False) # RMSE\n",
    "        scores.append(score)\n",
    "    mcrmse_score = np.mean(scores)\n",
    "    return mcrmse_score, scores\n",
    "\n",
    "\n",
    "def score_loss(y_trues, y_preds):\n",
    "    mcrmse_score, scores = MCRMSE(y_trues, y_preds)\n",
    "    return {\n",
    "        'mcrmse_score' : mcrmse_score,\n",
    "        'Content_score' : scores[0],\n",
    "        'Wording_score' : scores[1]\n",
    "    }"
   ]
  },
  {
   "cell_type": "code",
   "execution_count": 3,
   "id": "42e5093c",
   "metadata": {
    "execution": {
     "iopub.execute_input": "2023-08-05T16:09:28.132740Z",
     "iopub.status.busy": "2023-08-05T16:09:28.132440Z",
     "iopub.status.idle": "2023-08-05T16:09:28.167277Z",
     "shell.execute_reply": "2023-08-05T16:09:28.165826Z"
    },
    "papermill": {
     "duration": 0.044465,
     "end_time": "2023-08-05T16:09:28.170674",
     "exception": false,
     "start_time": "2023-08-05T16:09:28.126209",
     "status": "completed"
    },
    "tags": []
   },
   "outputs": [
    {
     "name": "stdout",
     "output_type": "stream",
     "text": [
      "(7165, 4)\n"
     ]
    },
    {
     "data": {
      "text/html": [
       "<div>\n",
       "<style scoped>\n",
       "    .dataframe tbody tr th:only-of-type {\n",
       "        vertical-align: middle;\n",
       "    }\n",
       "\n",
       "    .dataframe tbody tr th {\n",
       "        vertical-align: top;\n",
       "    }\n",
       "\n",
       "    .dataframe thead th {\n",
       "        text-align: right;\n",
       "    }\n",
       "</style>\n",
       "<table border=\"1\" class=\"dataframe\">\n",
       "  <thead>\n",
       "    <tr style=\"text-align: right;\">\n",
       "      <th></th>\n",
       "      <th>content</th>\n",
       "      <th>wording</th>\n",
       "      <th>pred_content</th>\n",
       "      <th>pred_wording</th>\n",
       "    </tr>\n",
       "  </thead>\n",
       "  <tbody>\n",
       "    <tr>\n",
       "      <th>0</th>\n",
       "      <td>1.658802</td>\n",
       "      <td>-0.093150</td>\n",
       "      <td>0.836136</td>\n",
       "      <td>0.151125</td>\n",
       "    </tr>\n",
       "    <tr>\n",
       "      <th>1</th>\n",
       "      <td>-1.638511</td>\n",
       "      <td>-0.911973</td>\n",
       "      <td>-1.300229</td>\n",
       "      <td>-0.716050</td>\n",
       "    </tr>\n",
       "    <tr>\n",
       "      <th>2</th>\n",
       "      <td>0.205682</td>\n",
       "      <td>0.380538</td>\n",
       "      <td>0.192420</td>\n",
       "      <td>0.089422</td>\n",
       "    </tr>\n",
       "    <tr>\n",
       "      <th>3</th>\n",
       "      <td>-1.355562</td>\n",
       "      <td>-0.955801</td>\n",
       "      <td>-1.039375</td>\n",
       "      <td>-0.897786</td>\n",
       "    </tr>\n",
       "    <tr>\n",
       "      <th>4</th>\n",
       "      <td>0.205682</td>\n",
       "      <td>0.380538</td>\n",
       "      <td>-0.006736</td>\n",
       "      <td>0.227909</td>\n",
       "    </tr>\n",
       "  </tbody>\n",
       "</table>\n",
       "</div>"
      ],
      "text/plain": [
       "    content   wording  pred_content  pred_wording\n",
       "0  1.658802 -0.093150      0.836136      0.151125\n",
       "1 -1.638511 -0.911973     -1.300229     -0.716050\n",
       "2  0.205682  0.380538      0.192420      0.089422\n",
       "3 -1.355562 -0.955801     -1.039375     -0.897786\n",
       "4  0.205682  0.380538     -0.006736      0.227909"
      ]
     },
     "execution_count": 3,
     "metadata": {},
     "output_type": "execute_result"
    }
   ],
   "source": [
    "oof_df = pd.read_csv('/kaggle/input/commonlit-deberta-base/oof_df.csv')\n",
    "#oof_df = pd.read_csv('/kaggle/input/commonlit-deberta-hidden-layers-mean/oof_df.csv')\n",
    "print(oof_df.shape)\n",
    "oof_df.head()"
   ]
  },
  {
   "cell_type": "code",
   "execution_count": 4,
   "id": "27160336",
   "metadata": {
    "execution": {
     "iopub.execute_input": "2023-08-05T16:09:28.183752Z",
     "iopub.status.busy": "2023-08-05T16:09:28.183451Z",
     "iopub.status.idle": "2023-08-05T16:09:28.194963Z",
     "shell.execute_reply": "2023-08-05T16:09:28.193945Z"
    },
    "papermill": {
     "duration": 0.02044,
     "end_time": "2023-08-05T16:09:28.197210",
     "exception": false,
     "start_time": "2023-08-05T16:09:28.176770",
     "status": "completed"
    },
    "tags": []
   },
   "outputs": [
    {
     "data": {
      "text/plain": [
       "{'mcrmse_score': 0.46615662019200665,\n",
       " 'Content_score': 0.39647407605816687,\n",
       " 'Wording_score': 0.5358391643258464}"
      ]
     },
     "execution_count": 4,
     "metadata": {},
     "output_type": "execute_result"
    }
   ],
   "source": [
    "s = score_loss(np.array(oof_df[['content' , 'wording']]) , np.array(oof_df[['pred_content' , 'pred_wording']]))\n",
    "s"
   ]
  },
  {
   "cell_type": "code",
   "execution_count": 5,
   "id": "c49302df",
   "metadata": {
    "execution": {
     "iopub.execute_input": "2023-08-05T16:09:28.211151Z",
     "iopub.status.busy": "2023-08-05T16:09:28.210833Z",
     "iopub.status.idle": "2023-08-05T16:09:28.215676Z",
     "shell.execute_reply": "2023-08-05T16:09:28.214646Z"
    },
    "papermill": {
     "duration": 0.013861,
     "end_time": "2023-08-05T16:09:28.217631",
     "exception": false,
     "start_time": "2023-08-05T16:09:28.203770",
     "status": "completed"
    },
    "tags": []
   },
   "outputs": [],
   "source": [
    "import torch\n",
    "import torch.nn as nn\n",
    "import transformers\n",
    "from transformers import (\n",
    "    AutoModel, AutoConfig, \n",
    "    AutoTokenizer, logging\n",
    ")"
   ]
  },
  {
   "cell_type": "code",
   "execution_count": 6,
   "id": "7b9e73ae",
   "metadata": {
    "execution": {
     "iopub.execute_input": "2023-08-05T16:09:28.230755Z",
     "iopub.status.busy": "2023-08-05T16:09:28.230466Z",
     "iopub.status.idle": "2023-08-05T16:09:28.603330Z",
     "shell.execute_reply": "2023-08-05T16:09:28.602361Z"
    },
    "papermill": {
     "duration": 0.383541,
     "end_time": "2023-08-05T16:09:28.607231",
     "exception": false,
     "start_time": "2023-08-05T16:09:28.223690",
     "status": "completed"
    },
    "tags": []
   },
   "outputs": [
    {
     "data": {
      "text/plain": [
       "(device(type='cuda'), '/kaggle/input/deberta-v3-large/deberta-v3-large')"
      ]
     },
     "execution_count": 6,
     "metadata": {},
     "output_type": "execute_result"
    }
   ],
   "source": [
    "# ====================================================\n",
    "# Utils\n",
    "# ====================================================\n",
    "\n",
    "\n",
    "class cfg:\n",
    "    select = 'large'\n",
    "    model_name = f'/kaggle/input/deberta-v3-{select}/deberta-v3-{select}'\n",
    "    only_model_name = f'deberta-v3-{select}'\n",
    "    fold = 4\n",
    "    batch_size = 32\n",
    "    freezing = True\n",
    "    max_len = 1024\n",
    "    pooling = 'GemText'\n",
    "    path = '/kaggle/input/commonlit-deberta-base/'\n",
    "    #path = '/kaggle/input/commonlit-deberta-hidden-layers-mean/'\n",
    "    #path = '/kaggle/input/commonlit-baseline/'\n",
    "    device = torch.device('cuda' if torch.cuda.is_available() else 'cpu')\n",
    "\n",
    "    seed = 42\n",
    "cfg.tokenizer = AutoTokenizer.from_pretrained(cfg.path+'tokenizer/')\n",
    "cfg.device , cfg.model_name"
   ]
  },
  {
   "cell_type": "code",
   "execution_count": 7,
   "id": "4ae663e8",
   "metadata": {
    "execution": {
     "iopub.execute_input": "2023-08-05T16:09:28.622575Z",
     "iopub.status.busy": "2023-08-05T16:09:28.622244Z",
     "iopub.status.idle": "2023-08-05T16:09:28.639904Z",
     "shell.execute_reply": "2023-08-05T16:09:28.638763Z"
    },
    "papermill": {
     "duration": 0.027305,
     "end_time": "2023-08-05T16:09:28.642101",
     "exception": false,
     "start_time": "2023-08-05T16:09:28.614796",
     "status": "completed"
    },
    "tags": []
   },
   "outputs": [
    {
     "name": "stderr",
     "output_type": "stream",
     "text": [
      "max_len: 1024\n",
      "batch_size: 32\n",
      "Model name: deberta-v3-large\n"
     ]
    }
   ],
   "source": [
    "\n",
    "def get_logger(filename='Inference'):\n",
    "    from logging import getLogger, INFO, StreamHandler, FileHandler, Formatter\n",
    "    logger = getLogger(__name__)\n",
    "    logger.setLevel(INFO)\n",
    "    handler1 = StreamHandler()\n",
    "    handler1.setFormatter(Formatter(\"%(message)s\"))\n",
    "    handler2 = FileHandler(filename=f\"{filename}.log\")\n",
    "    handler2.setFormatter(Formatter(\"%(message)s\"))\n",
    "    logger.addHandler(handler1)\n",
    "    logger.addHandler(handler2)\n",
    "    return logger\n",
    "\n",
    "LOGGER = get_logger()\n",
    "\n",
    "\n",
    "def set_seed(seed=42):\n",
    "    '''Sets the seed of the entire notebook so results are the same every time we run.\n",
    "    This is for REPRODUCIBILITY.'''\n",
    "    np.random.seed(seed)\n",
    "    torch.manual_seed(seed)\n",
    "    torch.cuda.manual_seed(seed)\n",
    "    # When running on the CuDNN backend, two further options must be set\n",
    "    torch.backends.cudnn.deterministic = True\n",
    "    torch.backends.cudnn.benchmark = False\n",
    "    # Set a fixed value for the hash seed\n",
    "    os.environ['PYTHONHASHSEED'] = str(seed)\n",
    "    \n",
    "set_seed(cfg.seed)\n",
    "\n",
    "\n",
    "LOGGER.info(f\"max_len: {cfg.max_len}\")\n",
    "LOGGER.info(f\"batch_size: {cfg.batch_size}\")\n",
    "LOGGER.info(f\"Model name: {cfg.only_model_name}\")"
   ]
  },
  {
   "cell_type": "code",
   "execution_count": 8,
   "id": "4536b89c",
   "metadata": {
    "execution": {
     "iopub.execute_input": "2023-08-05T16:09:28.656614Z",
     "iopub.status.busy": "2023-08-05T16:09:28.655825Z",
     "iopub.status.idle": "2023-08-05T16:09:28.693231Z",
     "shell.execute_reply": "2023-08-05T16:09:28.692118Z"
    },
    "papermill": {
     "duration": 0.048985,
     "end_time": "2023-08-05T16:09:28.697472",
     "exception": false,
     "start_time": "2023-08-05T16:09:28.648487",
     "status": "completed"
    },
    "tags": []
   },
   "outputs": [
    {
     "name": "stdout",
     "output_type": "stream",
     "text": [
      "Prompts Test shape: (2, 4)\n"
     ]
    },
    {
     "data": {
      "text/html": [
       "<div>\n",
       "<style scoped>\n",
       "    .dataframe tbody tr th:only-of-type {\n",
       "        vertical-align: middle;\n",
       "    }\n",
       "\n",
       "    .dataframe tbody tr th {\n",
       "        vertical-align: top;\n",
       "    }\n",
       "\n",
       "    .dataframe thead th {\n",
       "        text-align: right;\n",
       "    }\n",
       "</style>\n",
       "<table border=\"1\" class=\"dataframe\">\n",
       "  <thead>\n",
       "    <tr style=\"text-align: right;\">\n",
       "      <th></th>\n",
       "      <th>prompt_id</th>\n",
       "      <th>prompt_question</th>\n",
       "      <th>prompt_title</th>\n",
       "      <th>prompt_text</th>\n",
       "    </tr>\n",
       "  </thead>\n",
       "  <tbody>\n",
       "    <tr>\n",
       "      <th>0</th>\n",
       "      <td>abc123</td>\n",
       "      <td>Summarize...</td>\n",
       "      <td>Example Title 1</td>\n",
       "      <td>Heading\\nText...</td>\n",
       "    </tr>\n",
       "    <tr>\n",
       "      <th>1</th>\n",
       "      <td>def789</td>\n",
       "      <td>Summarize...</td>\n",
       "      <td>Example Title 2</td>\n",
       "      <td>Heading\\nText...</td>\n",
       "    </tr>\n",
       "  </tbody>\n",
       "</table>\n",
       "</div>"
      ],
      "text/plain": [
       "  prompt_id prompt_question     prompt_title       prompt_text\n",
       "0    abc123    Summarize...  Example Title 1  Heading\\nText...\n",
       "1    def789    Summarize...  Example Title 2  Heading\\nText..."
      ]
     },
     "metadata": {},
     "output_type": "display_data"
    },
    {
     "name": "stdout",
     "output_type": "stream",
     "text": [
      "Summary Test shape: (4, 3)\n"
     ]
    },
    {
     "data": {
      "text/html": [
       "<div>\n",
       "<style scoped>\n",
       "    .dataframe tbody tr th:only-of-type {\n",
       "        vertical-align: middle;\n",
       "    }\n",
       "\n",
       "    .dataframe tbody tr th {\n",
       "        vertical-align: top;\n",
       "    }\n",
       "\n",
       "    .dataframe thead th {\n",
       "        text-align: right;\n",
       "    }\n",
       "</style>\n",
       "<table border=\"1\" class=\"dataframe\">\n",
       "  <thead>\n",
       "    <tr style=\"text-align: right;\">\n",
       "      <th></th>\n",
       "      <th>student_id</th>\n",
       "      <th>prompt_id</th>\n",
       "      <th>text</th>\n",
       "    </tr>\n",
       "  </thead>\n",
       "  <tbody>\n",
       "    <tr>\n",
       "      <th>0</th>\n",
       "      <td>000000ffffff</td>\n",
       "      <td>abc123</td>\n",
       "      <td>Example text 1</td>\n",
       "    </tr>\n",
       "    <tr>\n",
       "      <th>1</th>\n",
       "      <td>111111eeeeee</td>\n",
       "      <td>def789</td>\n",
       "      <td>Example text 2</td>\n",
       "    </tr>\n",
       "    <tr>\n",
       "      <th>2</th>\n",
       "      <td>222222cccccc</td>\n",
       "      <td>abc123</td>\n",
       "      <td>Example text 3</td>\n",
       "    </tr>\n",
       "    <tr>\n",
       "      <th>3</th>\n",
       "      <td>333333dddddd</td>\n",
       "      <td>def789</td>\n",
       "      <td>Example text 4</td>\n",
       "    </tr>\n",
       "  </tbody>\n",
       "</table>\n",
       "</div>"
      ],
      "text/plain": [
       "     student_id prompt_id            text\n",
       "0  000000ffffff    abc123  Example text 1\n",
       "1  111111eeeeee    def789  Example text 2\n",
       "2  222222cccccc    abc123  Example text 3\n",
       "3  333333dddddd    def789  Example text 4"
      ]
     },
     "metadata": {},
     "output_type": "display_data"
    },
    {
     "name": "stdout",
     "output_type": "stream",
     "text": [
      "Submission shape: (4, 3)\n"
     ]
    },
    {
     "data": {
      "text/html": [
       "<div>\n",
       "<style scoped>\n",
       "    .dataframe tbody tr th:only-of-type {\n",
       "        vertical-align: middle;\n",
       "    }\n",
       "\n",
       "    .dataframe tbody tr th {\n",
       "        vertical-align: top;\n",
       "    }\n",
       "\n",
       "    .dataframe thead th {\n",
       "        text-align: right;\n",
       "    }\n",
       "</style>\n",
       "<table border=\"1\" class=\"dataframe\">\n",
       "  <thead>\n",
       "    <tr style=\"text-align: right;\">\n",
       "      <th></th>\n",
       "      <th>student_id</th>\n",
       "      <th>content</th>\n",
       "      <th>wording</th>\n",
       "    </tr>\n",
       "  </thead>\n",
       "  <tbody>\n",
       "    <tr>\n",
       "      <th>0</th>\n",
       "      <td>000000ffffff</td>\n",
       "      <td>0.0</td>\n",
       "      <td>0.0</td>\n",
       "    </tr>\n",
       "    <tr>\n",
       "      <th>1</th>\n",
       "      <td>111111eeeeee</td>\n",
       "      <td>0.0</td>\n",
       "      <td>0.0</td>\n",
       "    </tr>\n",
       "    <tr>\n",
       "      <th>2</th>\n",
       "      <td>222222cccccc</td>\n",
       "      <td>0.0</td>\n",
       "      <td>0.0</td>\n",
       "    </tr>\n",
       "    <tr>\n",
       "      <th>3</th>\n",
       "      <td>333333dddddd</td>\n",
       "      <td>0.0</td>\n",
       "      <td>0.0</td>\n",
       "    </tr>\n",
       "  </tbody>\n",
       "</table>\n",
       "</div>"
      ],
      "text/plain": [
       "     student_id  content  wording\n",
       "0  000000ffffff      0.0      0.0\n",
       "1  111111eeeeee      0.0      0.0\n",
       "2  222222cccccc      0.0      0.0\n",
       "3  333333dddddd      0.0      0.0"
      ]
     },
     "metadata": {},
     "output_type": "display_data"
    }
   ],
   "source": [
    "prompts_test = pd.read_csv('/kaggle/input/commonlit-evaluate-student-summaries/prompts_test.csv')\n",
    "summary_test = pd.read_csv('/kaggle/input/commonlit-evaluate-student-summaries/summaries_test.csv')\n",
    "submission = pd.read_csv('/kaggle/input/commonlit-evaluate-student-summaries/sample_submission.csv')\n",
    "\n",
    "print(f\"Prompts Test shape: {prompts_test.shape}\")\n",
    "display(prompts_test.head())\n",
    "print(f\"Summary Test shape: {summary_test.shape}\")\n",
    "display(summary_test.head())\n",
    "print(f\"Submission shape: {submission.shape}\")\n",
    "display(submission.head())"
   ]
  },
  {
   "cell_type": "code",
   "execution_count": 9,
   "id": "abcb2a78",
   "metadata": {
    "execution": {
     "iopub.execute_input": "2023-08-05T16:09:28.714474Z",
     "iopub.status.busy": "2023-08-05T16:09:28.713735Z",
     "iopub.status.idle": "2023-08-05T16:09:28.733748Z",
     "shell.execute_reply": "2023-08-05T16:09:28.732665Z"
    },
    "papermill": {
     "duration": 0.030379,
     "end_time": "2023-08-05T16:09:28.735794",
     "exception": false,
     "start_time": "2023-08-05T16:09:28.705415",
     "status": "completed"
    },
    "tags": []
   },
   "outputs": [
    {
     "data": {
      "text/html": [
       "<div>\n",
       "<style scoped>\n",
       "    .dataframe tbody tr th:only-of-type {\n",
       "        vertical-align: middle;\n",
       "    }\n",
       "\n",
       "    .dataframe tbody tr th {\n",
       "        vertical-align: top;\n",
       "    }\n",
       "\n",
       "    .dataframe thead th {\n",
       "        text-align: right;\n",
       "    }\n",
       "</style>\n",
       "<table border=\"1\" class=\"dataframe\">\n",
       "  <thead>\n",
       "    <tr style=\"text-align: right;\">\n",
       "      <th></th>\n",
       "      <th>prompt_id</th>\n",
       "      <th>prompt_question</th>\n",
       "      <th>prompt_title</th>\n",
       "      <th>prompt_text</th>\n",
       "      <th>student_id</th>\n",
       "      <th>text</th>\n",
       "    </tr>\n",
       "  </thead>\n",
       "  <tbody>\n",
       "    <tr>\n",
       "      <th>0</th>\n",
       "      <td>abc123</td>\n",
       "      <td>Summarize...</td>\n",
       "      <td>Example Title 1</td>\n",
       "      <td>Heading\\nText...</td>\n",
       "      <td>000000ffffff</td>\n",
       "      <td>Example text 1</td>\n",
       "    </tr>\n",
       "    <tr>\n",
       "      <th>1</th>\n",
       "      <td>abc123</td>\n",
       "      <td>Summarize...</td>\n",
       "      <td>Example Title 1</td>\n",
       "      <td>Heading\\nText...</td>\n",
       "      <td>222222cccccc</td>\n",
       "      <td>Example text 3</td>\n",
       "    </tr>\n",
       "    <tr>\n",
       "      <th>2</th>\n",
       "      <td>def789</td>\n",
       "      <td>Summarize...</td>\n",
       "      <td>Example Title 2</td>\n",
       "      <td>Heading\\nText...</td>\n",
       "      <td>111111eeeeee</td>\n",
       "      <td>Example text 2</td>\n",
       "    </tr>\n",
       "    <tr>\n",
       "      <th>3</th>\n",
       "      <td>def789</td>\n",
       "      <td>Summarize...</td>\n",
       "      <td>Example Title 2</td>\n",
       "      <td>Heading\\nText...</td>\n",
       "      <td>333333dddddd</td>\n",
       "      <td>Example text 4</td>\n",
       "    </tr>\n",
       "  </tbody>\n",
       "</table>\n",
       "</div>"
      ],
      "text/plain": [
       "  prompt_id prompt_question     prompt_title       prompt_text    student_id  \\\n",
       "0    abc123    Summarize...  Example Title 1  Heading\\nText...  000000ffffff   \n",
       "1    abc123    Summarize...  Example Title 1  Heading\\nText...  222222cccccc   \n",
       "2    def789    Summarize...  Example Title 2  Heading\\nText...  111111eeeeee   \n",
       "3    def789    Summarize...  Example Title 2  Heading\\nText...  333333dddddd   \n",
       "\n",
       "             text  \n",
       "0  Example text 1  \n",
       "1  Example text 3  \n",
       "2  Example text 2  \n",
       "3  Example text 4  "
      ]
     },
     "execution_count": 9,
     "metadata": {},
     "output_type": "execute_result"
    }
   ],
   "source": [
    "test = prompts_test.merge(summary_test, on=\"prompt_id\")\n",
    "test"
   ]
  },
  {
   "cell_type": "code",
   "execution_count": 10,
   "id": "f58513a7",
   "metadata": {
    "execution": {
     "iopub.execute_input": "2023-08-05T16:09:28.753397Z",
     "iopub.status.busy": "2023-08-05T16:09:28.752567Z",
     "iopub.status.idle": "2023-08-05T16:09:28.764969Z",
     "shell.execute_reply": "2023-08-05T16:09:28.763883Z"
    },
    "papermill": {
     "duration": 0.02309,
     "end_time": "2023-08-05T16:09:28.766969",
     "exception": false,
     "start_time": "2023-08-05T16:09:28.743879",
     "status": "completed"
    },
    "tags": []
   },
   "outputs": [
    {
     "data": {
      "text/plain": [
       "0    Summarize... [SEP] Example text 1\n",
       "1    Summarize... [SEP] Example text 3\n",
       "2    Summarize... [SEP] Example text 2\n",
       "3    Summarize... [SEP] Example text 4\n",
       "Name: full_text, dtype: object"
      ]
     },
     "execution_count": 10,
     "metadata": {},
     "output_type": "execute_result"
    }
   ],
   "source": [
    "test['full_text']=test['prompt_question'] +\" \" + cfg.tokenizer.sep_token +\" \"+test['text']\n",
    "test['full_text']"
   ]
  },
  {
   "cell_type": "code",
   "execution_count": 11,
   "id": "1a4476f8",
   "metadata": {
    "execution": {
     "iopub.execute_input": "2023-08-05T16:09:28.784937Z",
     "iopub.status.busy": "2023-08-05T16:09:28.783267Z",
     "iopub.status.idle": "2023-08-05T16:09:28.791557Z",
     "shell.execute_reply": "2023-08-05T16:09:28.790663Z"
    },
    "papermill": {
     "duration": 0.018861,
     "end_time": "2023-08-05T16:09:28.793587",
     "exception": false,
     "start_time": "2023-08-05T16:09:28.774726",
     "status": "completed"
    },
    "tags": []
   },
   "outputs": [],
   "source": [
    "def odd_layer_freeze(module):\n",
    "    for i in range(1,24,2):\n",
    "        for n,p in module.encoder.layer[i].named_parameters():\n",
    "            p.requires_grad = False\n",
    "            \n",
    "def even_layer_freeze(module):\n",
    "    for i in range(0,24,2):\n",
    "        for n,p in module.encoder.layer[i].named_parameters():\n",
    "            p.requires_grad = False\n",
    "            \n",
    "def top_half_layer_freeze(module):\n",
    "    for i in range(0,13,1):\n",
    "        for n,p in module.encoder.layer[i].named_parameters():\n",
    "            p.requires_grad = False\n",
    "\n",
    "def bottom_half_layer_freeze(module):\n",
    "    for i in range(13,14,1):\n",
    "        for n,p in module.encoder.layer[i].named_parameters():\n",
    "            p.requires_grad = False"
   ]
  },
  {
   "cell_type": "code",
   "execution_count": 12,
   "id": "dc30329c",
   "metadata": {
    "execution": {
     "iopub.execute_input": "2023-08-05T16:09:28.811128Z",
     "iopub.status.busy": "2023-08-05T16:09:28.810268Z",
     "iopub.status.idle": "2023-08-05T16:09:28.846184Z",
     "shell.execute_reply": "2023-08-05T16:09:28.845296Z"
    },
    "papermill": {
     "duration": 0.046694,
     "end_time": "2023-08-05T16:09:28.848208",
     "exception": false,
     "start_time": "2023-08-05T16:09:28.801514",
     "status": "completed"
    },
    "tags": []
   },
   "outputs": [
    {
     "name": "stdout",
     "output_type": "stream",
     "text": [
      "GeMText()\n"
     ]
    }
   ],
   "source": [
    "class MeanPooling(nn.Module):\n",
    "    def __init__(self):\n",
    "        super(MeanPooling, self).__init__()\n",
    "        \n",
    "    def forward(self, last_hidden_state, attention_mask):\n",
    "        input_mask_expanded = attention_mask.unsqueeze(-1).expand(last_hidden_state.size()).float()\n",
    "        sum_embeddings = torch.sum(last_hidden_state * input_mask_expanded, 1)\n",
    "        sum_mask = input_mask_expanded.sum(1)\n",
    "        sum_mask = torch.clamp(sum_mask, min=1e-9)\n",
    "        mean_embeddings = sum_embeddings / sum_mask\n",
    "        return mean_embeddings\n",
    "    \n",
    "    \n",
    "class GeMText(nn.Module):\n",
    "    def __init__(self, dim = 1, p=3, eps=1e-6):\n",
    "        super(GeMText, self).__init__()\n",
    "        self.dim = dim\n",
    "        self.p = Parameter(torch.ones(1) * p)\n",
    "        self.eps = eps\n",
    "        self.feat_mult = 1\n",
    "\n",
    "    def forward(self, last_hidden_state, attention_mask):\n",
    "        attention_mask_expanded = attention_mask.unsqueeze(-1).expand(last_hidden_state.shape)\n",
    "        x = (last_hidden_state.clamp(min=self.eps) * attention_mask_expanded).pow(self.p).sum(self.dim)\n",
    "        ret = x / attention_mask_expanded.sum(self.dim).clip(min=self.eps)\n",
    "        ret = ret.pow(1 / self.p)\n",
    "        return ret\n",
    "\n",
    "\n",
    "\n",
    "def get_pooling_layer():\n",
    "    if cfg.pooling == 'Mean':\n",
    "        return MeanPooling()\n",
    "    \n",
    "    elif cfg.pooling == 'Max':\n",
    "        return MaxPooling()\n",
    "    \n",
    "    elif cfg.pooling == 'MeanMax':\n",
    "        return MeanMaxPooling()\n",
    "    \n",
    "    elif cfg.pooling == 'GemText':\n",
    "        return GeMText()\n",
    "\n",
    "\n",
    "print(get_pooling_layer())"
   ]
  },
  {
   "cell_type": "code",
   "execution_count": 13,
   "id": "cd29a1fa",
   "metadata": {
    "execution": {
     "iopub.execute_input": "2023-08-05T16:09:28.866218Z",
     "iopub.status.busy": "2023-08-05T16:09:28.865932Z",
     "iopub.status.idle": "2023-08-05T16:09:28.876739Z",
     "shell.execute_reply": "2023-08-05T16:09:28.875821Z"
    },
    "papermill": {
     "duration": 0.021718,
     "end_time": "2023-08-05T16:09:28.878762",
     "exception": false,
     "start_time": "2023-08-05T16:09:28.857044",
     "status": "completed"
    },
    "tags": []
   },
   "outputs": [],
   "source": [
    "\n",
    "\n",
    "class BaselineModel(nn.Module):\n",
    "    def __init__(self, model_name ):\n",
    "        super(BaselineModel, self).__init__()\n",
    "        \n",
    "        self.model = AutoModel.from_pretrained(cfg.model_name)\n",
    "        self.config = AutoConfig.from_pretrained(cfg.model_name)\n",
    "        #self.drop = nn.Dropout(p=0.2)\n",
    "        self.pooler = get_pooling_layer()\n",
    "\n",
    "        if cfg.pooling == 'MeanMax':\n",
    "            self.fc = nn.Linear(2*self.config.hidden_size, 2)\n",
    "        else:\n",
    "            self.fc = nn.Linear(self.config.hidden_size, 2)\n",
    "            \n",
    "        \n",
    "        self._init_weights(self.fc)\n",
    "        \n",
    "        if cfg.freezing:\n",
    "            top_half_layer_freeze(self.model)\n",
    "        \n",
    "    def _init_weights(self, module):\n",
    "        if isinstance(module, nn.Linear):\n",
    "            module.weight.data.normal_(mean=0.0, std=self.config.initializer_range)\n",
    "            if module.bias is not None:\n",
    "                module.bias.data.zero_()\n",
    "        elif isinstance(module, nn.Embedding):\n",
    "            module.weight.data.normal_(mean=0.0, std=self.config.initializer_range)\n",
    "            if module.padding_idx is not None:\n",
    "                module.weight.data[module.padding_idx].zero_()\n",
    "        elif isinstance(module, nn.LayerNorm):\n",
    "            module.bias.data.zero_()\n",
    "            module.weight.data.fill_(1.0)\n",
    "           \n",
    "    def forward(self, ids, mask):\n",
    "        out = self.model(input_ids=ids,attention_mask=mask,\n",
    "                         output_hidden_states=False)\n",
    "        out = self.pooler(out.last_hidden_state, mask)\n",
    "        #out = self.drop(out)\n",
    "        outputs = self.fc(out)\n",
    "        return outputs"
   ]
  },
  {
   "cell_type": "code",
   "execution_count": 14,
   "id": "07400e24",
   "metadata": {
    "execution": {
     "iopub.execute_input": "2023-08-05T16:09:28.896415Z",
     "iopub.status.busy": "2023-08-05T16:09:28.896146Z",
     "iopub.status.idle": "2023-08-05T16:09:28.904476Z",
     "shell.execute_reply": "2023-08-05T16:09:28.903624Z"
    },
    "papermill": {
     "duration": 0.019535,
     "end_time": "2023-08-05T16:09:28.906373",
     "exception": false,
     "start_time": "2023-08-05T16:09:28.886838",
     "status": "completed"
    },
    "tags": []
   },
   "outputs": [
    {
     "data": {
      "text/plain": [
       "'\\nclass deberta_hs_Mean(nn.Module):\\n    def __init__(self, model_name ):\\n        super(deberta_hs_Mean, self).__init__()\\n        \\n        self.model_config = AutoConfig.from_pretrained(cfg.model_name)\\n        self.model_config.update(\\n            {\\n                \"output_hidden_states\": True,\\n                \"hidden_dropout_prob\": 0,\\n                \"add_pooling_layer\": False,\\n                \"num_labels\": 2,\\n                 \"attention_probs_dropout_prob\":0.0 \\n            }\\n        )\\n        self.model = AutoModel.from_pretrained(cfg.model_name, config=self.model_config)\\n        \\n        self.fc = nn.Linear(self.model_config.hidden_size, 2)\\n        \\n        self._init_weights(self.fc)\\n        \\n    def _init_weights(self, module):\\n        if isinstance(module, nn.Linear):\\n            module.weight.data.normal_(mean=0.0, std=self.model_config.initializer_range)\\n            if module.bias is not None:\\n                module.bias.data.zero_()\\n        elif isinstance(module, nn.Embedding):\\n            module.weight.data.normal_(mean=0.0, std=self.model_config.initializer_range)\\n            if module.padding_idx is not None:\\n                module.weight.data[module.padding_idx].zero_()\\n        elif isinstance(module, nn.LayerNorm):\\n            module.bias.data.zero_()\\n            module.weight.data.fill_(1.0)\\n            \\n    def forward(self, ids, mask):\\n        outputs = self.model(input_ids=ids,attention_mask=mask)\\n        \\n        h1 = outputs[1][-1][:,0,:].reshape(-1,1,self.model_config.hidden_size)\\n        h2 = outputs[1][-2][:,0,:].reshape(-1,1,self.model_config.hidden_size)\\n        h3 = outputs[1][-3][:,0,:].reshape(-1,1,self.model_config.hidden_size)\\n        h4 = outputs[1][-4][:,0,:].reshape(-1,1,self.model_config.hidden_size)\\n        h5 = outputs[1][-5][:,0,:].reshape(-1,1,self.model_config.hidden_size)\\n        h6 = outputs[1][-6][:,0,:].reshape(-1,1,self.model_config.hidden_size)\\n        h7 = outputs[1][-7][:,0,:].reshape(-1,1,self.model_config.hidden_size)\\n        h8 = outputs[1][-8][:,0,:].reshape(-1,1,self.model_config.hidden_size)\\n        h9 = outputs[1][-9][:,0,:].reshape(-1,1,self.model_config.hidden_size)\\n        h10 = outputs[1][-10][:,0,:].reshape(-1,1,self.model_config.hidden_size)\\n        h11 = outputs[1][-11][:,0,:].reshape(-1,1,self.model_config.hidden_size)\\n        h12 = outputs[1][-12][:,0,:].reshape(-1,1,self.model_config.hidden_size)\\n        \\n        all_cat_mean = torch.mean(\\n        torch.cat([ h1, h2, h3, h4, h5, h6,h7,h8,h9,h10,h11,h12], 1)\\n        ,1).reshape(-1,1,self.model_config.hidden_size)\\n        \\n        seq_out = torch.mean(torch.cat([ outputs.last_hidden_state[:,0,:].reshape(-1,1,self.model_config.hidden_size),\\n        all_cat_mean] , 1),1)\\n        \\n        out = self.fc(seq_out)\\n        return out\\n'"
      ]
     },
     "execution_count": 14,
     "metadata": {},
     "output_type": "execute_result"
    }
   ],
   "source": [
    "'''\n",
    "class deberta_hs_Mean(nn.Module):\n",
    "    def __init__(self, model_name ):\n",
    "        super(deberta_hs_Mean, self).__init__()\n",
    "        \n",
    "        self.model_config = AutoConfig.from_pretrained(cfg.model_name)\n",
    "        self.model_config.update(\n",
    "            {\n",
    "                \"output_hidden_states\": True,\n",
    "                \"hidden_dropout_prob\": 0,\n",
    "                \"add_pooling_layer\": False,\n",
    "                \"num_labels\": 2,\n",
    "                 \"attention_probs_dropout_prob\":0.0 \n",
    "            }\n",
    "        )\n",
    "        self.model = AutoModel.from_pretrained(cfg.model_name, config=self.model_config)\n",
    "        \n",
    "        self.fc = nn.Linear(self.model_config.hidden_size, 2)\n",
    "        \n",
    "        self._init_weights(self.fc)\n",
    "        \n",
    "    def _init_weights(self, module):\n",
    "        if isinstance(module, nn.Linear):\n",
    "            module.weight.data.normal_(mean=0.0, std=self.model_config.initializer_range)\n",
    "            if module.bias is not None:\n",
    "                module.bias.data.zero_()\n",
    "        elif isinstance(module, nn.Embedding):\n",
    "            module.weight.data.normal_(mean=0.0, std=self.model_config.initializer_range)\n",
    "            if module.padding_idx is not None:\n",
    "                module.weight.data[module.padding_idx].zero_()\n",
    "        elif isinstance(module, nn.LayerNorm):\n",
    "            module.bias.data.zero_()\n",
    "            module.weight.data.fill_(1.0)\n",
    "            \n",
    "    def forward(self, ids, mask):\n",
    "        outputs = self.model(input_ids=ids,attention_mask=mask)\n",
    "        \n",
    "        h1 = outputs[1][-1][:,0,:].reshape(-1,1,self.model_config.hidden_size)\n",
    "        h2 = outputs[1][-2][:,0,:].reshape(-1,1,self.model_config.hidden_size)\n",
    "        h3 = outputs[1][-3][:,0,:].reshape(-1,1,self.model_config.hidden_size)\n",
    "        h4 = outputs[1][-4][:,0,:].reshape(-1,1,self.model_config.hidden_size)\n",
    "        h5 = outputs[1][-5][:,0,:].reshape(-1,1,self.model_config.hidden_size)\n",
    "        h6 = outputs[1][-6][:,0,:].reshape(-1,1,self.model_config.hidden_size)\n",
    "        h7 = outputs[1][-7][:,0,:].reshape(-1,1,self.model_config.hidden_size)\n",
    "        h8 = outputs[1][-8][:,0,:].reshape(-1,1,self.model_config.hidden_size)\n",
    "        h9 = outputs[1][-9][:,0,:].reshape(-1,1,self.model_config.hidden_size)\n",
    "        h10 = outputs[1][-10][:,0,:].reshape(-1,1,self.model_config.hidden_size)\n",
    "        h11 = outputs[1][-11][:,0,:].reshape(-1,1,self.model_config.hidden_size)\n",
    "        h12 = outputs[1][-12][:,0,:].reshape(-1,1,self.model_config.hidden_size)\n",
    "        \n",
    "        all_cat_mean = torch.mean(\n",
    "        torch.cat([ h1, h2, h3, h4, h5, h6,h7,h8,h9,h10,h11,h12], 1)\n",
    "        ,1).reshape(-1,1,self.model_config.hidden_size)\n",
    "        \n",
    "        seq_out = torch.mean(torch.cat([ outputs.last_hidden_state[:,0,:].reshape(-1,1,self.model_config.hidden_size),\n",
    "        all_cat_mean] , 1),1)\n",
    "        \n",
    "        out = self.fc(seq_out)\n",
    "        return out\n",
    "'''"
   ]
  },
  {
   "cell_type": "code",
   "execution_count": 15,
   "id": "492403ed",
   "metadata": {
    "execution": {
     "iopub.execute_input": "2023-08-05T16:09:28.924023Z",
     "iopub.status.busy": "2023-08-05T16:09:28.923531Z",
     "iopub.status.idle": "2023-08-05T16:09:28.931105Z",
     "shell.execute_reply": "2023-08-05T16:09:28.930184Z"
    },
    "papermill": {
     "duration": 0.018622,
     "end_time": "2023-08-05T16:09:28.933019",
     "exception": false,
     "start_time": "2023-08-05T16:09:28.914397",
     "status": "completed"
    },
    "tags": []
   },
   "outputs": [
    {
     "data": {
      "text/plain": [
       "'\\nclass MeanPooling(nn.Module):\\n    def __init__(self):\\n        super(MeanPooling, self).__init__()\\n        \\n    def forward(self, last_hidden_state, attention_mask):\\n        input_mask_expanded = attention_mask.unsqueeze(-1).expand(last_hidden_state.size()).float()\\n        sum_embeddings = torch.sum(last_hidden_state * input_mask_expanded, 1)\\n        sum_mask = input_mask_expanded.sum(1)\\n        sum_mask = torch.clamp(sum_mask, min=1e-9)\\n        mean_embeddings = sum_embeddings / sum_mask\\n        return mean_embeddings\\n    \\nclass BaselineModel(nn.Module):\\n    def __init__(self, model_name):\\n        super(BaselineModel, self).__init__()\\n        \\n        self.model = AutoModel.from_pretrained(model_name)\\n        self.config = AutoConfig.from_pretrained(model_name)\\n        #self.drop = nn.Dropout(p=0.2)\\n        self.pooler = MeanPooling()\\n        self.fc = nn.Linear(self.config.hidden_size, 2)\\n        \\n        self._init_weights(self.fc)        \\n        \\n    def _init_weights(self, module):\\n        if isinstance(module, nn.Linear):\\n            module.weight.data.normal_(mean=0.0, std=self.config.initializer_range)\\n            if module.bias is not None:\\n                module.bias.data.zero_()\\n        elif isinstance(module, nn.Embedding):\\n            module.weight.data.normal_(mean=0.0, std=self.config.initializer_range)\\n            if module.padding_idx is not None:\\n                module.weight.data[module.padding_idx].zero_()\\n        elif isinstance(module, nn.LayerNorm):\\n            module.bias.data.zero_()\\n            module.weight.data.fill_(1.0)\\n           \\n    def forward(self, ids, mask):\\n        out = self.model(input_ids=ids,attention_mask=mask,\\n                         output_hidden_states=False)\\n        out = self.pooler(out.last_hidden_state, mask)\\n        #out = self.drop(out)\\n        outputs = self.fc(out)\\n        return outputs\\n\\n'"
      ]
     },
     "execution_count": 15,
     "metadata": {},
     "output_type": "execute_result"
    }
   ],
   "source": [
    "'''\n",
    "class MeanPooling(nn.Module):\n",
    "    def __init__(self):\n",
    "        super(MeanPooling, self).__init__()\n",
    "        \n",
    "    def forward(self, last_hidden_state, attention_mask):\n",
    "        input_mask_expanded = attention_mask.unsqueeze(-1).expand(last_hidden_state.size()).float()\n",
    "        sum_embeddings = torch.sum(last_hidden_state * input_mask_expanded, 1)\n",
    "        sum_mask = input_mask_expanded.sum(1)\n",
    "        sum_mask = torch.clamp(sum_mask, min=1e-9)\n",
    "        mean_embeddings = sum_embeddings / sum_mask\n",
    "        return mean_embeddings\n",
    "    \n",
    "class BaselineModel(nn.Module):\n",
    "    def __init__(self, model_name):\n",
    "        super(BaselineModel, self).__init__()\n",
    "        \n",
    "        self.model = AutoModel.from_pretrained(model_name)\n",
    "        self.config = AutoConfig.from_pretrained(model_name)\n",
    "        #self.drop = nn.Dropout(p=0.2)\n",
    "        self.pooler = MeanPooling()\n",
    "        self.fc = nn.Linear(self.config.hidden_size, 2)\n",
    "        \n",
    "        self._init_weights(self.fc)        \n",
    "        \n",
    "    def _init_weights(self, module):\n",
    "        if isinstance(module, nn.Linear):\n",
    "            module.weight.data.normal_(mean=0.0, std=self.config.initializer_range)\n",
    "            if module.bias is not None:\n",
    "                module.bias.data.zero_()\n",
    "        elif isinstance(module, nn.Embedding):\n",
    "            module.weight.data.normal_(mean=0.0, std=self.config.initializer_range)\n",
    "            if module.padding_idx is not None:\n",
    "                module.weight.data[module.padding_idx].zero_()\n",
    "        elif isinstance(module, nn.LayerNorm):\n",
    "            module.bias.data.zero_()\n",
    "            module.weight.data.fill_(1.0)\n",
    "           \n",
    "    def forward(self, ids, mask):\n",
    "        out = self.model(input_ids=ids,attention_mask=mask,\n",
    "                         output_hidden_states=False)\n",
    "        out = self.pooler(out.last_hidden_state, mask)\n",
    "        #out = self.drop(out)\n",
    "        outputs = self.fc(out)\n",
    "        return outputs\n",
    "\n",
    "'''"
   ]
  },
  {
   "cell_type": "code",
   "execution_count": 16,
   "id": "2751362d",
   "metadata": {
    "execution": {
     "iopub.execute_input": "2023-08-05T16:09:28.951884Z",
     "iopub.status.busy": "2023-08-05T16:09:28.951098Z",
     "iopub.status.idle": "2023-08-05T16:09:28.960339Z",
     "shell.execute_reply": "2023-08-05T16:09:28.959513Z"
    },
    "papermill": {
     "duration": 0.020879,
     "end_time": "2023-08-05T16:09:28.962266",
     "exception": false,
     "start_time": "2023-08-05T16:09:28.941387",
     "status": "completed"
    },
    "tags": []
   },
   "outputs": [],
   "source": [
    "class TestDataset(Dataset):\n",
    "    def __init__(self,df):\n",
    "        self.df = df\n",
    "        self.tokenizer = cfg.tokenizer\n",
    "        self.max_len = cfg.max_len\n",
    "        self.pq = df['prompt_question'].values\n",
    "        self.text = df['text'].values\n",
    "        \n",
    "    def __len__(self):\n",
    "        return len(self.df)\n",
    "    \n",
    "    def __getitem__(self , index):\n",
    "        pq   =   self.pq[index]\n",
    "        text =   self.text[index]\n",
    "        full_text = pq+\" \" + self.tokenizer.sep_token +\" \"+text\n",
    "        inputs = self.tokenizer.encode_plus(\n",
    "                        full_text,\n",
    "                        truncation=True,\n",
    "                        add_special_tokens=True,\n",
    "                        max_length=self.max_len,\n",
    "                        padding='max_length'\n",
    "                        \n",
    "                    )\n",
    "        \n",
    "        ids = inputs['input_ids']\n",
    "        mask = inputs['attention_mask']\n",
    "        \n",
    "        return {\n",
    "            'input_ids': torch.tensor(ids, dtype=torch.long),\n",
    "            'attention_mask': torch.tensor(mask, dtype=torch.long)\n",
    "        }\n",
    "    \n",
    "def collate(inputs):\n",
    "    mask_len = int(inputs[\"attention_mask\"].sum(axis=1).max())\n",
    "    for k, v in inputs.items():\n",
    "        inputs[k] = inputs[k][:, :mask_len]\n",
    "    return inputs"
   ]
  },
  {
   "cell_type": "code",
   "execution_count": 17,
   "id": "9010fee2",
   "metadata": {
    "execution": {
     "iopub.execute_input": "2023-08-05T16:09:28.980579Z",
     "iopub.status.busy": "2023-08-05T16:09:28.979796Z",
     "iopub.status.idle": "2023-08-05T16:09:28.986591Z",
     "shell.execute_reply": "2023-08-05T16:09:28.985744Z"
    },
    "papermill": {
     "duration": 0.018218,
     "end_time": "2023-08-05T16:09:28.988788",
     "exception": false,
     "start_time": "2023-08-05T16:09:28.970570",
     "status": "completed"
    },
    "tags": []
   },
   "outputs": [],
   "source": [
    "@torch.no_grad()\n",
    "def test_run(model , loader):\n",
    "    \n",
    "    \n",
    "    model.eval()\n",
    "       \n",
    "    preds = []\n",
    "    bar = tqdm(enumerate(loader), total=len(loader))\n",
    "    for idx , data in bar:\n",
    "        inputs = collate(data)\n",
    "        ids   =  inputs['input_ids'].to(cfg.device, dtype = torch.long)\n",
    "        mask  =  inputs['attention_mask'].to(cfg.device, dtype = torch.long)\n",
    "        y_preds = model(ids , mask)\n",
    "        preds.append(y_preds.to('cpu').numpy())\n",
    "    \n",
    "    predictions = np.concatenate(preds)\n",
    "    \n",
    "    return predictions\n",
    "    "
   ]
  },
  {
   "cell_type": "code",
   "execution_count": 18,
   "id": "adf69993",
   "metadata": {
    "execution": {
     "iopub.execute_input": "2023-08-05T16:09:29.007513Z",
     "iopub.status.busy": "2023-08-05T16:09:29.006844Z",
     "iopub.status.idle": "2023-08-05T16:09:29.011722Z",
     "shell.execute_reply": "2023-08-05T16:09:29.010764Z"
    },
    "papermill": {
     "duration": 0.016117,
     "end_time": "2023-08-05T16:09:29.013696",
     "exception": false,
     "start_time": "2023-08-05T16:09:28.997579",
     "status": "completed"
    },
    "tags": []
   },
   "outputs": [],
   "source": [
    "test_dataset = TestDataset(test)\n",
    "test_loader = DataLoader(test_dataset , batch_size=cfg.batch_size ,num_workers=2, shuffle=False, pin_memory=True)"
   ]
  },
  {
   "cell_type": "code",
   "execution_count": 19,
   "id": "63ff5c44",
   "metadata": {
    "execution": {
     "iopub.execute_input": "2023-08-05T16:09:29.031924Z",
     "iopub.status.busy": "2023-08-05T16:09:29.031408Z",
     "iopub.status.idle": "2023-08-05T16:10:56.052757Z",
     "shell.execute_reply": "2023-08-05T16:10:56.051549Z"
    },
    "papermill": {
     "duration": 87.033442,
     "end_time": "2023-08-05T16:10:56.055527",
     "exception": false,
     "start_time": "2023-08-05T16:09:29.022085",
     "status": "completed"
    },
    "tags": []
   },
   "outputs": [
    {
     "name": "stdout",
     "output_type": "stream",
     "text": [
      "******** fold 0 ********\n"
     ]
    },
    {
     "name": "stderr",
     "output_type": "stream",
     "text": [
      "Some weights of the model checkpoint at /kaggle/input/deberta-v3-large/deberta-v3-large were not used when initializing DebertaV2Model: ['mask_predictions.classifier.bias', 'lm_predictions.lm_head.LayerNorm.weight', 'lm_predictions.lm_head.LayerNorm.bias', 'mask_predictions.dense.bias', 'mask_predictions.classifier.weight', 'lm_predictions.lm_head.bias', 'mask_predictions.dense.weight', 'mask_predictions.LayerNorm.bias', 'mask_predictions.LayerNorm.weight', 'lm_predictions.lm_head.dense.bias', 'lm_predictions.lm_head.dense.weight']\n",
      "- This IS expected if you are initializing DebertaV2Model from the checkpoint of a model trained on another task or with another architecture (e.g. initializing a BertForSequenceClassification model from a BertForPreTraining model).\n",
      "- This IS NOT expected if you are initializing DebertaV2Model from the checkpoint of a model that you expect to be exactly identical (initializing a BertForSequenceClassification model from a BertForSequenceClassification model).\n"
     ]
    },
    {
     "data": {
      "application/vnd.jupyter.widget-view+json": {
       "model_id": "a0ab39a8436a4dd0ba567f9094747b68",
       "version_major": 2,
       "version_minor": 0
      },
      "text/plain": [
       "  0%|          | 0/1 [00:00<?, ?it/s]"
      ]
     },
     "metadata": {},
     "output_type": "display_data"
    },
    {
     "name": "stdout",
     "output_type": "stream",
     "text": [
      "******** fold 1 ********\n"
     ]
    },
    {
     "name": "stderr",
     "output_type": "stream",
     "text": [
      "Some weights of the model checkpoint at /kaggle/input/deberta-v3-large/deberta-v3-large were not used when initializing DebertaV2Model: ['mask_predictions.classifier.bias', 'lm_predictions.lm_head.LayerNorm.weight', 'lm_predictions.lm_head.LayerNorm.bias', 'mask_predictions.dense.bias', 'mask_predictions.classifier.weight', 'lm_predictions.lm_head.bias', 'mask_predictions.dense.weight', 'mask_predictions.LayerNorm.bias', 'mask_predictions.LayerNorm.weight', 'lm_predictions.lm_head.dense.bias', 'lm_predictions.lm_head.dense.weight']\n",
      "- This IS expected if you are initializing DebertaV2Model from the checkpoint of a model trained on another task or with another architecture (e.g. initializing a BertForSequenceClassification model from a BertForPreTraining model).\n",
      "- This IS NOT expected if you are initializing DebertaV2Model from the checkpoint of a model that you expect to be exactly identical (initializing a BertForSequenceClassification model from a BertForSequenceClassification model).\n"
     ]
    },
    {
     "data": {
      "application/vnd.jupyter.widget-view+json": {
       "model_id": "66c933c7d7b14b59ac8404750699274b",
       "version_major": 2,
       "version_minor": 0
      },
      "text/plain": [
       "  0%|          | 0/1 [00:00<?, ?it/s]"
      ]
     },
     "metadata": {},
     "output_type": "display_data"
    },
    {
     "name": "stdout",
     "output_type": "stream",
     "text": [
      "******** fold 2 ********\n"
     ]
    },
    {
     "name": "stderr",
     "output_type": "stream",
     "text": [
      "Some weights of the model checkpoint at /kaggle/input/deberta-v3-large/deberta-v3-large were not used when initializing DebertaV2Model: ['mask_predictions.classifier.bias', 'lm_predictions.lm_head.LayerNorm.weight', 'lm_predictions.lm_head.LayerNorm.bias', 'mask_predictions.dense.bias', 'mask_predictions.classifier.weight', 'lm_predictions.lm_head.bias', 'mask_predictions.dense.weight', 'mask_predictions.LayerNorm.bias', 'mask_predictions.LayerNorm.weight', 'lm_predictions.lm_head.dense.bias', 'lm_predictions.lm_head.dense.weight']\n",
      "- This IS expected if you are initializing DebertaV2Model from the checkpoint of a model trained on another task or with another architecture (e.g. initializing a BertForSequenceClassification model from a BertForPreTraining model).\n",
      "- This IS NOT expected if you are initializing DebertaV2Model from the checkpoint of a model that you expect to be exactly identical (initializing a BertForSequenceClassification model from a BertForSequenceClassification model).\n"
     ]
    },
    {
     "data": {
      "application/vnd.jupyter.widget-view+json": {
       "model_id": "f9ad6d5480c047488e0e4f5f64cc60eb",
       "version_major": 2,
       "version_minor": 0
      },
      "text/plain": [
       "  0%|          | 0/1 [00:00<?, ?it/s]"
      ]
     },
     "metadata": {},
     "output_type": "display_data"
    },
    {
     "name": "stdout",
     "output_type": "stream",
     "text": [
      "******** fold 3 ********\n"
     ]
    },
    {
     "name": "stderr",
     "output_type": "stream",
     "text": [
      "Some weights of the model checkpoint at /kaggle/input/deberta-v3-large/deberta-v3-large were not used when initializing DebertaV2Model: ['mask_predictions.classifier.bias', 'lm_predictions.lm_head.LayerNorm.weight', 'lm_predictions.lm_head.LayerNorm.bias', 'mask_predictions.dense.bias', 'mask_predictions.classifier.weight', 'lm_predictions.lm_head.bias', 'mask_predictions.dense.weight', 'mask_predictions.LayerNorm.bias', 'mask_predictions.LayerNorm.weight', 'lm_predictions.lm_head.dense.bias', 'lm_predictions.lm_head.dense.weight']\n",
      "- This IS expected if you are initializing DebertaV2Model from the checkpoint of a model trained on another task or with another architecture (e.g. initializing a BertForSequenceClassification model from a BertForPreTraining model).\n",
      "- This IS NOT expected if you are initializing DebertaV2Model from the checkpoint of a model that you expect to be exactly identical (initializing a BertForSequenceClassification model from a BertForSequenceClassification model).\n"
     ]
    },
    {
     "data": {
      "application/vnd.jupyter.widget-view+json": {
       "model_id": "ff1b010e138c417b9ad145957ed7c581",
       "version_major": 2,
       "version_minor": 0
      },
      "text/plain": [
       "  0%|          | 0/1 [00:00<?, ?it/s]"
      ]
     },
     "metadata": {},
     "output_type": "display_data"
    }
   ],
   "source": [
    "\n",
    "final_preds = []\n",
    "for fold in range(cfg.fold):\n",
    "    print('******** fold' , fold , '********')\n",
    "    \n",
    "    model  = BaselineModel(cfg.model_name).to(cfg.device)\n",
    "    model.load_state_dict(torch.load(f\"/kaggle/input/commonlit-deberta-base/deberta-v3-{cfg.select}_Fold_{fold}.pth\", map_location=torch.device('cpu')))\n",
    "    #model.load_state_dict(torch.load(f\"/kaggle/input/commonlit-deberta-hidden-layers-mean/deberta-v3-base_Fold_{fold}.pth\", map_location=torch.device('cpu')))\n",
    "    preds = test_run(model, test_loader)\n",
    "    final_preds.append(preds)\n",
    "    del model ; gc.collect()\n",
    "    torch.cuda.empty_cache()\n",
    "    # /kaggle/input/commonlit-deberta-base/deberta-v3-large_Fold_0.pth\n",
    "final_preds_ = np.mean(final_preds, axis=0)\n",
    "    "
   ]
  },
  {
   "cell_type": "code",
   "execution_count": 20,
   "id": "430528a5",
   "metadata": {
    "execution": {
     "iopub.execute_input": "2023-08-05T16:10:56.078182Z",
     "iopub.status.busy": "2023-08-05T16:10:56.077861Z",
     "iopub.status.idle": "2023-08-05T16:10:56.096426Z",
     "shell.execute_reply": "2023-08-05T16:10:56.095546Z"
    },
    "papermill": {
     "duration": 0.03272,
     "end_time": "2023-08-05T16:10:56.098729",
     "exception": false,
     "start_time": "2023-08-05T16:10:56.066009",
     "status": "completed"
    },
    "tags": []
   },
   "outputs": [
    {
     "data": {
      "text/html": [
       "<div>\n",
       "<style scoped>\n",
       "    .dataframe tbody tr th:only-of-type {\n",
       "        vertical-align: middle;\n",
       "    }\n",
       "\n",
       "    .dataframe tbody tr th {\n",
       "        vertical-align: top;\n",
       "    }\n",
       "\n",
       "    .dataframe thead th {\n",
       "        text-align: right;\n",
       "    }\n",
       "</style>\n",
       "<table border=\"1\" class=\"dataframe\">\n",
       "  <thead>\n",
       "    <tr style=\"text-align: right;\">\n",
       "      <th></th>\n",
       "      <th>student_id</th>\n",
       "      <th>content</th>\n",
       "      <th>wording</th>\n",
       "    </tr>\n",
       "  </thead>\n",
       "  <tbody>\n",
       "    <tr>\n",
       "      <th>0</th>\n",
       "      <td>000000ffffff</td>\n",
       "      <td>0.0</td>\n",
       "      <td>0.0</td>\n",
       "    </tr>\n",
       "    <tr>\n",
       "      <th>1</th>\n",
       "      <td>111111eeeeee</td>\n",
       "      <td>0.0</td>\n",
       "      <td>0.0</td>\n",
       "    </tr>\n",
       "    <tr>\n",
       "      <th>2</th>\n",
       "      <td>222222cccccc</td>\n",
       "      <td>0.0</td>\n",
       "      <td>0.0</td>\n",
       "    </tr>\n",
       "    <tr>\n",
       "      <th>3</th>\n",
       "      <td>333333dddddd</td>\n",
       "      <td>0.0</td>\n",
       "      <td>0.0</td>\n",
       "    </tr>\n",
       "  </tbody>\n",
       "</table>\n",
       "</div>"
      ],
      "text/plain": [
       "     student_id  content  wording\n",
       "0  000000ffffff      0.0      0.0\n",
       "1  111111eeeeee      0.0      0.0\n",
       "2  222222cccccc      0.0      0.0\n",
       "3  333333dddddd      0.0      0.0"
      ]
     },
     "execution_count": 20,
     "metadata": {},
     "output_type": "execute_result"
    }
   ],
   "source": [
    "submission = pd.read_csv('/kaggle/input/commonlit-evaluate-student-summaries/sample_submission.csv')\n",
    "submission.head()"
   ]
  },
  {
   "cell_type": "code",
   "execution_count": 21,
   "id": "b8fd9b9c",
   "metadata": {
    "execution": {
     "iopub.execute_input": "2023-08-05T16:10:56.121062Z",
     "iopub.status.busy": "2023-08-05T16:10:56.120754Z",
     "iopub.status.idle": "2023-08-05T16:10:56.145634Z",
     "shell.execute_reply": "2023-08-05T16:10:56.144731Z"
    },
    "papermill": {
     "duration": 0.038089,
     "end_time": "2023-08-05T16:10:56.147634",
     "exception": false,
     "start_time": "2023-08-05T16:10:56.109545",
     "status": "completed"
    },
    "tags": []
   },
   "outputs": [
    {
     "data": {
      "text/html": [
       "<div>\n",
       "<style scoped>\n",
       "    .dataframe tbody tr th:only-of-type {\n",
       "        vertical-align: middle;\n",
       "    }\n",
       "\n",
       "    .dataframe tbody tr th {\n",
       "        vertical-align: top;\n",
       "    }\n",
       "\n",
       "    .dataframe thead th {\n",
       "        text-align: right;\n",
       "    }\n",
       "</style>\n",
       "<table border=\"1\" class=\"dataframe\">\n",
       "  <thead>\n",
       "    <tr style=\"text-align: right;\">\n",
       "      <th></th>\n",
       "      <th>student_id</th>\n",
       "      <th>content</th>\n",
       "      <th>wording</th>\n",
       "    </tr>\n",
       "  </thead>\n",
       "  <tbody>\n",
       "    <tr>\n",
       "      <th>0</th>\n",
       "      <td>000000ffffff</td>\n",
       "      <td>-1.409746</td>\n",
       "      <td>-1.039957</td>\n",
       "    </tr>\n",
       "    <tr>\n",
       "      <th>1</th>\n",
       "      <td>111111eeeeee</td>\n",
       "      <td>-1.418963</td>\n",
       "      <td>-1.021244</td>\n",
       "    </tr>\n",
       "    <tr>\n",
       "      <th>2</th>\n",
       "      <td>222222cccccc</td>\n",
       "      <td>-1.445152</td>\n",
       "      <td>-1.026454</td>\n",
       "    </tr>\n",
       "    <tr>\n",
       "      <th>3</th>\n",
       "      <td>333333dddddd</td>\n",
       "      <td>-1.416630</td>\n",
       "      <td>-1.014911</td>\n",
       "    </tr>\n",
       "  </tbody>\n",
       "</table>\n",
       "</div>"
      ],
      "text/plain": [
       "     student_id   content   wording\n",
       "0  000000ffffff -1.409746 -1.039957\n",
       "1  111111eeeeee -1.418963 -1.021244\n",
       "2  222222cccccc -1.445152 -1.026454\n",
       "3  333333dddddd -1.416630 -1.014911"
      ]
     },
     "metadata": {},
     "output_type": "display_data"
    }
   ],
   "source": [
    "target_cols=['content','wording']\n",
    "test[target_cols] = final_preds_\n",
    "submission = submission.drop(columns=target_cols).merge(test[['student_id'] + target_cols], on='student_id', how='left')\n",
    "display(submission.head())\n",
    "submission[['student_id'] + target_cols].to_csv('submission.csv', index=False)"
   ]
  },
  {
   "cell_type": "code",
   "execution_count": null,
   "id": "bc5fbf3b",
   "metadata": {
    "papermill": {
     "duration": 0.010463,
     "end_time": "2023-08-05T16:10:56.169266",
     "exception": false,
     "start_time": "2023-08-05T16:10:56.158803",
     "status": "completed"
    },
    "tags": []
   },
   "outputs": [],
   "source": []
  }
 ],
 "metadata": {
  "kernelspec": {
   "display_name": "Python 3",
   "language": "python",
   "name": "python3"
  },
  "language_info": {
   "codemirror_mode": {
    "name": "ipython",
    "version": 3
   },
   "file_extension": ".py",
   "mimetype": "text/x-python",
   "name": "python",
   "nbconvert_exporter": "python",
   "pygments_lexer": "ipython3",
   "version": "3.10.12"
  },
  "papermill": {
   "default_parameters": {},
   "duration": 118.690916,
   "end_time": "2023-08-05T16:10:59.897706",
   "environment_variables": {},
   "exception": null,
   "input_path": "__notebook__.ipynb",
   "output_path": "__notebook__.ipynb",
   "parameters": {},
   "start_time": "2023-08-05T16:09:01.206790",
   "version": "2.4.0"
  },
  "widgets": {
   "application/vnd.jupyter.widget-state+json": {
    "state": {
     "026cc3b557b9414ca11512401c9b66e8": {
      "model_module": "@jupyter-widgets/controls",
      "model_module_version": "1.5.0",
      "model_name": "DescriptionStyleModel",
      "state": {
       "_model_module": "@jupyter-widgets/controls",
       "_model_module_version": "1.5.0",
       "_model_name": "DescriptionStyleModel",
       "_view_count": null,
       "_view_module": "@jupyter-widgets/base",
       "_view_module_version": "1.2.0",
       "_view_name": "StyleView",
       "description_width": ""
      }
     },
     "0c04ef2c2e9a48f781895775c85539c7": {
      "model_module": "@jupyter-widgets/controls",
      "model_module_version": "1.5.0",
      "model_name": "HTMLModel",
      "state": {
       "_dom_classes": [],
       "_model_module": "@jupyter-widgets/controls",
       "_model_module_version": "1.5.0",
       "_model_name": "HTMLModel",
       "_view_count": null,
       "_view_module": "@jupyter-widgets/controls",
       "_view_module_version": "1.5.0",
       "_view_name": "HTMLView",
       "description": "",
       "description_tooltip": null,
       "layout": "IPY_MODEL_90b95551e0404e65a5220bbce80ac8ca",
       "placeholder": "​",
       "style": "IPY_MODEL_7fa1fcfb6d1a44cf83aad8cccac234ff",
       "value": "100%"
      }
     },
     "0faca89930b34527b1368dde9da0d534": {
      "model_module": "@jupyter-widgets/base",
      "model_module_version": "1.2.0",
      "model_name": "LayoutModel",
      "state": {
       "_model_module": "@jupyter-widgets/base",
       "_model_module_version": "1.2.0",
       "_model_name": "LayoutModel",
       "_view_count": null,
       "_view_module": "@jupyter-widgets/base",
       "_view_module_version": "1.2.0",
       "_view_name": "LayoutView",
       "align_content": null,
       "align_items": null,
       "align_self": null,
       "border": null,
       "bottom": null,
       "display": null,
       "flex": null,
       "flex_flow": null,
       "grid_area": null,
       "grid_auto_columns": null,
       "grid_auto_flow": null,
       "grid_auto_rows": null,
       "grid_column": null,
       "grid_gap": null,
       "grid_row": null,
       "grid_template_areas": null,
       "grid_template_columns": null,
       "grid_template_rows": null,
       "height": null,
       "justify_content": null,
       "justify_items": null,
       "left": null,
       "margin": null,
       "max_height": null,
       "max_width": null,
       "min_height": null,
       "min_width": null,
       "object_fit": null,
       "object_position": null,
       "order": null,
       "overflow": null,
       "overflow_x": null,
       "overflow_y": null,
       "padding": null,
       "right": null,
       "top": null,
       "visibility": null,
       "width": null
      }
     },
     "19bd52e81fbc4a5d90fddc5722017736": {
      "model_module": "@jupyter-widgets/controls",
      "model_module_version": "1.5.0",
      "model_name": "ProgressStyleModel",
      "state": {
       "_model_module": "@jupyter-widgets/controls",
       "_model_module_version": "1.5.0",
       "_model_name": "ProgressStyleModel",
       "_view_count": null,
       "_view_module": "@jupyter-widgets/base",
       "_view_module_version": "1.2.0",
       "_view_name": "StyleView",
       "bar_color": null,
       "description_width": ""
      }
     },
     "25a716871288453a9e7b216fb5098b82": {
      "model_module": "@jupyter-widgets/controls",
      "model_module_version": "1.5.0",
      "model_name": "FloatProgressModel",
      "state": {
       "_dom_classes": [],
       "_model_module": "@jupyter-widgets/controls",
       "_model_module_version": "1.5.0",
       "_model_name": "FloatProgressModel",
       "_view_count": null,
       "_view_module": "@jupyter-widgets/controls",
       "_view_module_version": "1.5.0",
       "_view_name": "ProgressView",
       "bar_style": "success",
       "description": "",
       "description_tooltip": null,
       "layout": "IPY_MODEL_c8386d552fd0453fa8bca6356c7b83ec",
       "max": 1.0,
       "min": 0.0,
       "orientation": "horizontal",
       "style": "IPY_MODEL_ed9942ad37c44ce682987b01feb5b5d9",
       "value": 1.0
      }
     },
     "3ea3edeeed224c9cb40fcb027feac56f": {
      "model_module": "@jupyter-widgets/base",
      "model_module_version": "1.2.0",
      "model_name": "LayoutModel",
      "state": {
       "_model_module": "@jupyter-widgets/base",
       "_model_module_version": "1.2.0",
       "_model_name": "LayoutModel",
       "_view_count": null,
       "_view_module": "@jupyter-widgets/base",
       "_view_module_version": "1.2.0",
       "_view_name": "LayoutView",
       "align_content": null,
       "align_items": null,
       "align_self": null,
       "border": null,
       "bottom": null,
       "display": null,
       "flex": null,
       "flex_flow": null,
       "grid_area": null,
       "grid_auto_columns": null,
       "grid_auto_flow": null,
       "grid_auto_rows": null,
       "grid_column": null,
       "grid_gap": null,
       "grid_row": null,
       "grid_template_areas": null,
       "grid_template_columns": null,
       "grid_template_rows": null,
       "height": null,
       "justify_content": null,
       "justify_items": null,
       "left": null,
       "margin": null,
       "max_height": null,
       "max_width": null,
       "min_height": null,
       "min_width": null,
       "object_fit": null,
       "object_position": null,
       "order": null,
       "overflow": null,
       "overflow_x": null,
       "overflow_y": null,
       "padding": null,
       "right": null,
       "top": null,
       "visibility": null,
       "width": null
      }
     },
     "3ffb9a0c40fd42f68b2bd94524fa36ef": {
      "model_module": "@jupyter-widgets/base",
      "model_module_version": "1.2.0",
      "model_name": "LayoutModel",
      "state": {
       "_model_module": "@jupyter-widgets/base",
       "_model_module_version": "1.2.0",
       "_model_name": "LayoutModel",
       "_view_count": null,
       "_view_module": "@jupyter-widgets/base",
       "_view_module_version": "1.2.0",
       "_view_name": "LayoutView",
       "align_content": null,
       "align_items": null,
       "align_self": null,
       "border": null,
       "bottom": null,
       "display": null,
       "flex": null,
       "flex_flow": null,
       "grid_area": null,
       "grid_auto_columns": null,
       "grid_auto_flow": null,
       "grid_auto_rows": null,
       "grid_column": null,
       "grid_gap": null,
       "grid_row": null,
       "grid_template_areas": null,
       "grid_template_columns": null,
       "grid_template_rows": null,
       "height": null,
       "justify_content": null,
       "justify_items": null,
       "left": null,
       "margin": null,
       "max_height": null,
       "max_width": null,
       "min_height": null,
       "min_width": null,
       "object_fit": null,
       "object_position": null,
       "order": null,
       "overflow": null,
       "overflow_x": null,
       "overflow_y": null,
       "padding": null,
       "right": null,
       "top": null,
       "visibility": null,
       "width": null
      }
     },
     "42c13d87b85d4351ad9965f9b9c0db8e": {
      "model_module": "@jupyter-widgets/controls",
      "model_module_version": "1.5.0",
      "model_name": "HTMLModel",
      "state": {
       "_dom_classes": [],
       "_model_module": "@jupyter-widgets/controls",
       "_model_module_version": "1.5.0",
       "_model_name": "HTMLModel",
       "_view_count": null,
       "_view_module": "@jupyter-widgets/controls",
       "_view_module_version": "1.5.0",
       "_view_name": "HTMLView",
       "description": "",
       "description_tooltip": null,
       "layout": "IPY_MODEL_585d9b70e3f14b63adbc0a993dab4501",
       "placeholder": "​",
       "style": "IPY_MODEL_7d0f83eb76a342a3888e1a74903e5b44",
       "value": "100%"
      }
     },
     "46f324b6af7d4413a5eb58fe0d2a2b1f": {
      "model_module": "@jupyter-widgets/base",
      "model_module_version": "1.2.0",
      "model_name": "LayoutModel",
      "state": {
       "_model_module": "@jupyter-widgets/base",
       "_model_module_version": "1.2.0",
       "_model_name": "LayoutModel",
       "_view_count": null,
       "_view_module": "@jupyter-widgets/base",
       "_view_module_version": "1.2.0",
       "_view_name": "LayoutView",
       "align_content": null,
       "align_items": null,
       "align_self": null,
       "border": null,
       "bottom": null,
       "display": null,
       "flex": null,
       "flex_flow": null,
       "grid_area": null,
       "grid_auto_columns": null,
       "grid_auto_flow": null,
       "grid_auto_rows": null,
       "grid_column": null,
       "grid_gap": null,
       "grid_row": null,
       "grid_template_areas": null,
       "grid_template_columns": null,
       "grid_template_rows": null,
       "height": null,
       "justify_content": null,
       "justify_items": null,
       "left": null,
       "margin": null,
       "max_height": null,
       "max_width": null,
       "min_height": null,
       "min_width": null,
       "object_fit": null,
       "object_position": null,
       "order": null,
       "overflow": null,
       "overflow_x": null,
       "overflow_y": null,
       "padding": null,
       "right": null,
       "top": null,
       "visibility": null,
       "width": null
      }
     },
     "4f42428bba414913bcebf6916b9409a2": {
      "model_module": "@jupyter-widgets/controls",
      "model_module_version": "1.5.0",
      "model_name": "DescriptionStyleModel",
      "state": {
       "_model_module": "@jupyter-widgets/controls",
       "_model_module_version": "1.5.0",
       "_model_name": "DescriptionStyleModel",
       "_view_count": null,
       "_view_module": "@jupyter-widgets/base",
       "_view_module_version": "1.2.0",
       "_view_name": "StyleView",
       "description_width": ""
      }
     },
     "585d9b70e3f14b63adbc0a993dab4501": {
      "model_module": "@jupyter-widgets/base",
      "model_module_version": "1.2.0",
      "model_name": "LayoutModel",
      "state": {
       "_model_module": "@jupyter-widgets/base",
       "_model_module_version": "1.2.0",
       "_model_name": "LayoutModel",
       "_view_count": null,
       "_view_module": "@jupyter-widgets/base",
       "_view_module_version": "1.2.0",
       "_view_name": "LayoutView",
       "align_content": null,
       "align_items": null,
       "align_self": null,
       "border": null,
       "bottom": null,
       "display": null,
       "flex": null,
       "flex_flow": null,
       "grid_area": null,
       "grid_auto_columns": null,
       "grid_auto_flow": null,
       "grid_auto_rows": null,
       "grid_column": null,
       "grid_gap": null,
       "grid_row": null,
       "grid_template_areas": null,
       "grid_template_columns": null,
       "grid_template_rows": null,
       "height": null,
       "justify_content": null,
       "justify_items": null,
       "left": null,
       "margin": null,
       "max_height": null,
       "max_width": null,
       "min_height": null,
       "min_width": null,
       "object_fit": null,
       "object_position": null,
       "order": null,
       "overflow": null,
       "overflow_x": null,
       "overflow_y": null,
       "padding": null,
       "right": null,
       "top": null,
       "visibility": null,
       "width": null
      }
     },
     "5cc599d4d273420282d38275ded22e79": {
      "model_module": "@jupyter-widgets/base",
      "model_module_version": "1.2.0",
      "model_name": "LayoutModel",
      "state": {
       "_model_module": "@jupyter-widgets/base",
       "_model_module_version": "1.2.0",
       "_model_name": "LayoutModel",
       "_view_count": null,
       "_view_module": "@jupyter-widgets/base",
       "_view_module_version": "1.2.0",
       "_view_name": "LayoutView",
       "align_content": null,
       "align_items": null,
       "align_self": null,
       "border": null,
       "bottom": null,
       "display": null,
       "flex": null,
       "flex_flow": null,
       "grid_area": null,
       "grid_auto_columns": null,
       "grid_auto_flow": null,
       "grid_auto_rows": null,
       "grid_column": null,
       "grid_gap": null,
       "grid_row": null,
       "grid_template_areas": null,
       "grid_template_columns": null,
       "grid_template_rows": null,
       "height": null,
       "justify_content": null,
       "justify_items": null,
       "left": null,
       "margin": null,
       "max_height": null,
       "max_width": null,
       "min_height": null,
       "min_width": null,
       "object_fit": null,
       "object_position": null,
       "order": null,
       "overflow": null,
       "overflow_x": null,
       "overflow_y": null,
       "padding": null,
       "right": null,
       "top": null,
       "visibility": null,
       "width": null
      }
     },
     "5e54ee8f5c1642feb4d5a6fa58575ef7": {
      "model_module": "@jupyter-widgets/base",
      "model_module_version": "1.2.0",
      "model_name": "LayoutModel",
      "state": {
       "_model_module": "@jupyter-widgets/base",
       "_model_module_version": "1.2.0",
       "_model_name": "LayoutModel",
       "_view_count": null,
       "_view_module": "@jupyter-widgets/base",
       "_view_module_version": "1.2.0",
       "_view_name": "LayoutView",
       "align_content": null,
       "align_items": null,
       "align_self": null,
       "border": null,
       "bottom": null,
       "display": null,
       "flex": null,
       "flex_flow": null,
       "grid_area": null,
       "grid_auto_columns": null,
       "grid_auto_flow": null,
       "grid_auto_rows": null,
       "grid_column": null,
       "grid_gap": null,
       "grid_row": null,
       "grid_template_areas": null,
       "grid_template_columns": null,
       "grid_template_rows": null,
       "height": null,
       "justify_content": null,
       "justify_items": null,
       "left": null,
       "margin": null,
       "max_height": null,
       "max_width": null,
       "min_height": null,
       "min_width": null,
       "object_fit": null,
       "object_position": null,
       "order": null,
       "overflow": null,
       "overflow_x": null,
       "overflow_y": null,
       "padding": null,
       "right": null,
       "top": null,
       "visibility": null,
       "width": null
      }
     },
     "66962e65ef0b41ceb64738a53c378e33": {
      "model_module": "@jupyter-widgets/controls",
      "model_module_version": "1.5.0",
      "model_name": "HTMLModel",
      "state": {
       "_dom_classes": [],
       "_model_module": "@jupyter-widgets/controls",
       "_model_module_version": "1.5.0",
       "_model_name": "HTMLModel",
       "_view_count": null,
       "_view_module": "@jupyter-widgets/controls",
       "_view_module_version": "1.5.0",
       "_view_name": "HTMLView",
       "description": "",
       "description_tooltip": null,
       "layout": "IPY_MODEL_db35054fce2140ce917ec22b62380d4c",
       "placeholder": "​",
       "style": "IPY_MODEL_8b62fc30f1d7476682e9847e2ff301eb",
       "value": " 1/1 [00:00&lt;00:00,  4.82it/s]"
      }
     },
     "66c933c7d7b14b59ac8404750699274b": {
      "model_module": "@jupyter-widgets/controls",
      "model_module_version": "1.5.0",
      "model_name": "HBoxModel",
      "state": {
       "_dom_classes": [],
       "_model_module": "@jupyter-widgets/controls",
       "_model_module_version": "1.5.0",
       "_model_name": "HBoxModel",
       "_view_count": null,
       "_view_module": "@jupyter-widgets/controls",
       "_view_module_version": "1.5.0",
       "_view_name": "HBoxView",
       "box_style": "",
       "children": [
        "IPY_MODEL_42c13d87b85d4351ad9965f9b9c0db8e",
        "IPY_MODEL_f9f0d06af3a943438be635ea75bc06f6",
        "IPY_MODEL_c756d349a27349a781cb15bb2ee655fc"
       ],
       "layout": "IPY_MODEL_9f1c23cfabc347ca9e7eeb11a24a865b"
      }
     },
     "6f73a2752ba5428f893d14271382a9be": {
      "model_module": "@jupyter-widgets/controls",
      "model_module_version": "1.5.0",
      "model_name": "HTMLModel",
      "state": {
       "_dom_classes": [],
       "_model_module": "@jupyter-widgets/controls",
       "_model_module_version": "1.5.0",
       "_model_name": "HTMLModel",
       "_view_count": null,
       "_view_module": "@jupyter-widgets/controls",
       "_view_module_version": "1.5.0",
       "_view_name": "HTMLView",
       "description": "",
       "description_tooltip": null,
       "layout": "IPY_MODEL_d242445de5044bd583236423cb106497",
       "placeholder": "​",
       "style": "IPY_MODEL_4f42428bba414913bcebf6916b9409a2",
       "value": " 1/1 [00:02&lt;00:00,  1.92s/it]"
      }
     },
     "7d0f83eb76a342a3888e1a74903e5b44": {
      "model_module": "@jupyter-widgets/controls",
      "model_module_version": "1.5.0",
      "model_name": "DescriptionStyleModel",
      "state": {
       "_model_module": "@jupyter-widgets/controls",
       "_model_module_version": "1.5.0",
       "_model_name": "DescriptionStyleModel",
       "_view_count": null,
       "_view_module": "@jupyter-widgets/base",
       "_view_module_version": "1.2.0",
       "_view_name": "StyleView",
       "description_width": ""
      }
     },
     "7f1c4e3547e243209be092ad0efae095": {
      "model_module": "@jupyter-widgets/controls",
      "model_module_version": "1.5.0",
      "model_name": "ProgressStyleModel",
      "state": {
       "_model_module": "@jupyter-widgets/controls",
       "_model_module_version": "1.5.0",
       "_model_name": "ProgressStyleModel",
       "_view_count": null,
       "_view_module": "@jupyter-widgets/base",
       "_view_module_version": "1.2.0",
       "_view_name": "StyleView",
       "bar_color": null,
       "description_width": ""
      }
     },
     "7fa1fcfb6d1a44cf83aad8cccac234ff": {
      "model_module": "@jupyter-widgets/controls",
      "model_module_version": "1.5.0",
      "model_name": "DescriptionStyleModel",
      "state": {
       "_model_module": "@jupyter-widgets/controls",
       "_model_module_version": "1.5.0",
       "_model_name": "DescriptionStyleModel",
       "_view_count": null,
       "_view_module": "@jupyter-widgets/base",
       "_view_module_version": "1.2.0",
       "_view_name": "StyleView",
       "description_width": ""
      }
     },
     "8b62fc30f1d7476682e9847e2ff301eb": {
      "model_module": "@jupyter-widgets/controls",
      "model_module_version": "1.5.0",
      "model_name": "DescriptionStyleModel",
      "state": {
       "_model_module": "@jupyter-widgets/controls",
       "_model_module_version": "1.5.0",
       "_model_name": "DescriptionStyleModel",
       "_view_count": null,
       "_view_module": "@jupyter-widgets/base",
       "_view_module_version": "1.2.0",
       "_view_name": "StyleView",
       "description_width": ""
      }
     },
     "8bf70c4e107e4f239d5a0f2bee535b79": {
      "model_module": "@jupyter-widgets/base",
      "model_module_version": "1.2.0",
      "model_name": "LayoutModel",
      "state": {
       "_model_module": "@jupyter-widgets/base",
       "_model_module_version": "1.2.0",
       "_model_name": "LayoutModel",
       "_view_count": null,
       "_view_module": "@jupyter-widgets/base",
       "_view_module_version": "1.2.0",
       "_view_name": "LayoutView",
       "align_content": null,
       "align_items": null,
       "align_self": null,
       "border": null,
       "bottom": null,
       "display": null,
       "flex": null,
       "flex_flow": null,
       "grid_area": null,
       "grid_auto_columns": null,
       "grid_auto_flow": null,
       "grid_auto_rows": null,
       "grid_column": null,
       "grid_gap": null,
       "grid_row": null,
       "grid_template_areas": null,
       "grid_template_columns": null,
       "grid_template_rows": null,
       "height": null,
       "justify_content": null,
       "justify_items": null,
       "left": null,
       "margin": null,
       "max_height": null,
       "max_width": null,
       "min_height": null,
       "min_width": null,
       "object_fit": null,
       "object_position": null,
       "order": null,
       "overflow": null,
       "overflow_x": null,
       "overflow_y": null,
       "padding": null,
       "right": null,
       "top": null,
       "visibility": null,
       "width": null
      }
     },
     "90b95551e0404e65a5220bbce80ac8ca": {
      "model_module": "@jupyter-widgets/base",
      "model_module_version": "1.2.0",
      "model_name": "LayoutModel",
      "state": {
       "_model_module": "@jupyter-widgets/base",
       "_model_module_version": "1.2.0",
       "_model_name": "LayoutModel",
       "_view_count": null,
       "_view_module": "@jupyter-widgets/base",
       "_view_module_version": "1.2.0",
       "_view_name": "LayoutView",
       "align_content": null,
       "align_items": null,
       "align_self": null,
       "border": null,
       "bottom": null,
       "display": null,
       "flex": null,
       "flex_flow": null,
       "grid_area": null,
       "grid_auto_columns": null,
       "grid_auto_flow": null,
       "grid_auto_rows": null,
       "grid_column": null,
       "grid_gap": null,
       "grid_row": null,
       "grid_template_areas": null,
       "grid_template_columns": null,
       "grid_template_rows": null,
       "height": null,
       "justify_content": null,
       "justify_items": null,
       "left": null,
       "margin": null,
       "max_height": null,
       "max_width": null,
       "min_height": null,
       "min_width": null,
       "object_fit": null,
       "object_position": null,
       "order": null,
       "overflow": null,
       "overflow_x": null,
       "overflow_y": null,
       "padding": null,
       "right": null,
       "top": null,
       "visibility": null,
       "width": null
      }
     },
     "96484cdbd1de499da2f28721d99867b0": {
      "model_module": "@jupyter-widgets/controls",
      "model_module_version": "1.5.0",
      "model_name": "DescriptionStyleModel",
      "state": {
       "_model_module": "@jupyter-widgets/controls",
       "_model_module_version": "1.5.0",
       "_model_name": "DescriptionStyleModel",
       "_view_count": null,
       "_view_module": "@jupyter-widgets/base",
       "_view_module_version": "1.2.0",
       "_view_name": "StyleView",
       "description_width": ""
      }
     },
     "9ed8744fbbe94dc586ac2b743b7317c9": {
      "model_module": "@jupyter-widgets/base",
      "model_module_version": "1.2.0",
      "model_name": "LayoutModel",
      "state": {
       "_model_module": "@jupyter-widgets/base",
       "_model_module_version": "1.2.0",
       "_model_name": "LayoutModel",
       "_view_count": null,
       "_view_module": "@jupyter-widgets/base",
       "_view_module_version": "1.2.0",
       "_view_name": "LayoutView",
       "align_content": null,
       "align_items": null,
       "align_self": null,
       "border": null,
       "bottom": null,
       "display": null,
       "flex": null,
       "flex_flow": null,
       "grid_area": null,
       "grid_auto_columns": null,
       "grid_auto_flow": null,
       "grid_auto_rows": null,
       "grid_column": null,
       "grid_gap": null,
       "grid_row": null,
       "grid_template_areas": null,
       "grid_template_columns": null,
       "grid_template_rows": null,
       "height": null,
       "justify_content": null,
       "justify_items": null,
       "left": null,
       "margin": null,
       "max_height": null,
       "max_width": null,
       "min_height": null,
       "min_width": null,
       "object_fit": null,
       "object_position": null,
       "order": null,
       "overflow": null,
       "overflow_x": null,
       "overflow_y": null,
       "padding": null,
       "right": null,
       "top": null,
       "visibility": null,
       "width": null
      }
     },
     "9f1c23cfabc347ca9e7eeb11a24a865b": {
      "model_module": "@jupyter-widgets/base",
      "model_module_version": "1.2.0",
      "model_name": "LayoutModel",
      "state": {
       "_model_module": "@jupyter-widgets/base",
       "_model_module_version": "1.2.0",
       "_model_name": "LayoutModel",
       "_view_count": null,
       "_view_module": "@jupyter-widgets/base",
       "_view_module_version": "1.2.0",
       "_view_name": "LayoutView",
       "align_content": null,
       "align_items": null,
       "align_self": null,
       "border": null,
       "bottom": null,
       "display": null,
       "flex": null,
       "flex_flow": null,
       "grid_area": null,
       "grid_auto_columns": null,
       "grid_auto_flow": null,
       "grid_auto_rows": null,
       "grid_column": null,
       "grid_gap": null,
       "grid_row": null,
       "grid_template_areas": null,
       "grid_template_columns": null,
       "grid_template_rows": null,
       "height": null,
       "justify_content": null,
       "justify_items": null,
       "left": null,
       "margin": null,
       "max_height": null,
       "max_width": null,
       "min_height": null,
       "min_width": null,
       "object_fit": null,
       "object_position": null,
       "order": null,
       "overflow": null,
       "overflow_x": null,
       "overflow_y": null,
       "padding": null,
       "right": null,
       "top": null,
       "visibility": null,
       "width": null
      }
     },
     "a0ab39a8436a4dd0ba567f9094747b68": {
      "model_module": "@jupyter-widgets/controls",
      "model_module_version": "1.5.0",
      "model_name": "HBoxModel",
      "state": {
       "_dom_classes": [],
       "_model_module": "@jupyter-widgets/controls",
       "_model_module_version": "1.5.0",
       "_model_name": "HBoxModel",
       "_view_count": null,
       "_view_module": "@jupyter-widgets/controls",
       "_view_module_version": "1.5.0",
       "_view_name": "HBoxView",
       "box_style": "",
       "children": [
        "IPY_MODEL_af2a9232873a4a1cb121291a865949f1",
        "IPY_MODEL_dc66a548e4e941d0884759ce37aed0cf",
        "IPY_MODEL_6f73a2752ba5428f893d14271382a9be"
       ],
       "layout": "IPY_MODEL_f68da60ed9ca43d9bec910f45746b77d"
      }
     },
     "ab3fde0816964c43a97b1f90d4aa5976": {
      "model_module": "@jupyter-widgets/controls",
      "model_module_version": "1.5.0",
      "model_name": "HTMLModel",
      "state": {
       "_dom_classes": [],
       "_model_module": "@jupyter-widgets/controls",
       "_model_module_version": "1.5.0",
       "_model_name": "HTMLModel",
       "_view_count": null,
       "_view_module": "@jupyter-widgets/controls",
       "_view_module_version": "1.5.0",
       "_view_name": "HTMLView",
       "description": "",
       "description_tooltip": null,
       "layout": "IPY_MODEL_5cc599d4d273420282d38275ded22e79",
       "placeholder": "​",
       "style": "IPY_MODEL_d2c0a7b92c6e485ea2a32f2ae04d34e3",
       "value": " 1/1 [00:00&lt;00:00,  5.01it/s]"
      }
     },
     "abe70585998a41568a280c4beb65970d": {
      "model_module": "@jupyter-widgets/controls",
      "model_module_version": "1.5.0",
      "model_name": "FloatProgressModel",
      "state": {
       "_dom_classes": [],
       "_model_module": "@jupyter-widgets/controls",
       "_model_module_version": "1.5.0",
       "_model_name": "FloatProgressModel",
       "_view_count": null,
       "_view_module": "@jupyter-widgets/controls",
       "_view_module_version": "1.5.0",
       "_view_name": "ProgressView",
       "bar_style": "success",
       "description": "",
       "description_tooltip": null,
       "layout": "IPY_MODEL_3ea3edeeed224c9cb40fcb027feac56f",
       "max": 1.0,
       "min": 0.0,
       "orientation": "horizontal",
       "style": "IPY_MODEL_7f1c4e3547e243209be092ad0efae095",
       "value": 1.0
      }
     },
     "af2a9232873a4a1cb121291a865949f1": {
      "model_module": "@jupyter-widgets/controls",
      "model_module_version": "1.5.0",
      "model_name": "HTMLModel",
      "state": {
       "_dom_classes": [],
       "_model_module": "@jupyter-widgets/controls",
       "_model_module_version": "1.5.0",
       "_model_name": "HTMLModel",
       "_view_count": null,
       "_view_module": "@jupyter-widgets/controls",
       "_view_module_version": "1.5.0",
       "_view_name": "HTMLView",
       "description": "",
       "description_tooltip": null,
       "layout": "IPY_MODEL_5e54ee8f5c1642feb4d5a6fa58575ef7",
       "placeholder": "​",
       "style": "IPY_MODEL_96484cdbd1de499da2f28721d99867b0",
       "value": "100%"
      }
     },
     "c756d349a27349a781cb15bb2ee655fc": {
      "model_module": "@jupyter-widgets/controls",
      "model_module_version": "1.5.0",
      "model_name": "HTMLModel",
      "state": {
       "_dom_classes": [],
       "_model_module": "@jupyter-widgets/controls",
       "_model_module_version": "1.5.0",
       "_model_name": "HTMLModel",
       "_view_count": null,
       "_view_module": "@jupyter-widgets/controls",
       "_view_module_version": "1.5.0",
       "_view_name": "HTMLView",
       "description": "",
       "description_tooltip": null,
       "layout": "IPY_MODEL_9ed8744fbbe94dc586ac2b743b7317c9",
       "placeholder": "​",
       "style": "IPY_MODEL_e4908128bdad4016891baba9cd13265e",
       "value": " 1/1 [00:00&lt;00:00,  5.41it/s]"
      }
     },
     "c8386d552fd0453fa8bca6356c7b83ec": {
      "model_module": "@jupyter-widgets/base",
      "model_module_version": "1.2.0",
      "model_name": "LayoutModel",
      "state": {
       "_model_module": "@jupyter-widgets/base",
       "_model_module_version": "1.2.0",
       "_model_name": "LayoutModel",
       "_view_count": null,
       "_view_module": "@jupyter-widgets/base",
       "_view_module_version": "1.2.0",
       "_view_name": "LayoutView",
       "align_content": null,
       "align_items": null,
       "align_self": null,
       "border": null,
       "bottom": null,
       "display": null,
       "flex": null,
       "flex_flow": null,
       "grid_area": null,
       "grid_auto_columns": null,
       "grid_auto_flow": null,
       "grid_auto_rows": null,
       "grid_column": null,
       "grid_gap": null,
       "grid_row": null,
       "grid_template_areas": null,
       "grid_template_columns": null,
       "grid_template_rows": null,
       "height": null,
       "justify_content": null,
       "justify_items": null,
       "left": null,
       "margin": null,
       "max_height": null,
       "max_width": null,
       "min_height": null,
       "min_width": null,
       "object_fit": null,
       "object_position": null,
       "order": null,
       "overflow": null,
       "overflow_x": null,
       "overflow_y": null,
       "padding": null,
       "right": null,
       "top": null,
       "visibility": null,
       "width": null
      }
     },
     "d242445de5044bd583236423cb106497": {
      "model_module": "@jupyter-widgets/base",
      "model_module_version": "1.2.0",
      "model_name": "LayoutModel",
      "state": {
       "_model_module": "@jupyter-widgets/base",
       "_model_module_version": "1.2.0",
       "_model_name": "LayoutModel",
       "_view_count": null,
       "_view_module": "@jupyter-widgets/base",
       "_view_module_version": "1.2.0",
       "_view_name": "LayoutView",
       "align_content": null,
       "align_items": null,
       "align_self": null,
       "border": null,
       "bottom": null,
       "display": null,
       "flex": null,
       "flex_flow": null,
       "grid_area": null,
       "grid_auto_columns": null,
       "grid_auto_flow": null,
       "grid_auto_rows": null,
       "grid_column": null,
       "grid_gap": null,
       "grid_row": null,
       "grid_template_areas": null,
       "grid_template_columns": null,
       "grid_template_rows": null,
       "height": null,
       "justify_content": null,
       "justify_items": null,
       "left": null,
       "margin": null,
       "max_height": null,
       "max_width": null,
       "min_height": null,
       "min_width": null,
       "object_fit": null,
       "object_position": null,
       "order": null,
       "overflow": null,
       "overflow_x": null,
       "overflow_y": null,
       "padding": null,
       "right": null,
       "top": null,
       "visibility": null,
       "width": null
      }
     },
     "d2c0a7b92c6e485ea2a32f2ae04d34e3": {
      "model_module": "@jupyter-widgets/controls",
      "model_module_version": "1.5.0",
      "model_name": "DescriptionStyleModel",
      "state": {
       "_model_module": "@jupyter-widgets/controls",
       "_model_module_version": "1.5.0",
       "_model_name": "DescriptionStyleModel",
       "_view_count": null,
       "_view_module": "@jupyter-widgets/base",
       "_view_module_version": "1.2.0",
       "_view_name": "StyleView",
       "description_width": ""
      }
     },
     "db35054fce2140ce917ec22b62380d4c": {
      "model_module": "@jupyter-widgets/base",
      "model_module_version": "1.2.0",
      "model_name": "LayoutModel",
      "state": {
       "_model_module": "@jupyter-widgets/base",
       "_model_module_version": "1.2.0",
       "_model_name": "LayoutModel",
       "_view_count": null,
       "_view_module": "@jupyter-widgets/base",
       "_view_module_version": "1.2.0",
       "_view_name": "LayoutView",
       "align_content": null,
       "align_items": null,
       "align_self": null,
       "border": null,
       "bottom": null,
       "display": null,
       "flex": null,
       "flex_flow": null,
       "grid_area": null,
       "grid_auto_columns": null,
       "grid_auto_flow": null,
       "grid_auto_rows": null,
       "grid_column": null,
       "grid_gap": null,
       "grid_row": null,
       "grid_template_areas": null,
       "grid_template_columns": null,
       "grid_template_rows": null,
       "height": null,
       "justify_content": null,
       "justify_items": null,
       "left": null,
       "margin": null,
       "max_height": null,
       "max_width": null,
       "min_height": null,
       "min_width": null,
       "object_fit": null,
       "object_position": null,
       "order": null,
       "overflow": null,
       "overflow_x": null,
       "overflow_y": null,
       "padding": null,
       "right": null,
       "top": null,
       "visibility": null,
       "width": null
      }
     },
     "dc318b05462648eca91989a6c485e80c": {
      "model_module": "@jupyter-widgets/controls",
      "model_module_version": "1.5.0",
      "model_name": "ProgressStyleModel",
      "state": {
       "_model_module": "@jupyter-widgets/controls",
       "_model_module_version": "1.5.0",
       "_model_name": "ProgressStyleModel",
       "_view_count": null,
       "_view_module": "@jupyter-widgets/base",
       "_view_module_version": "1.2.0",
       "_view_name": "StyleView",
       "bar_color": null,
       "description_width": ""
      }
     },
     "dc66a548e4e941d0884759ce37aed0cf": {
      "model_module": "@jupyter-widgets/controls",
      "model_module_version": "1.5.0",
      "model_name": "FloatProgressModel",
      "state": {
       "_dom_classes": [],
       "_model_module": "@jupyter-widgets/controls",
       "_model_module_version": "1.5.0",
       "_model_name": "FloatProgressModel",
       "_view_count": null,
       "_view_module": "@jupyter-widgets/controls",
       "_view_module_version": "1.5.0",
       "_view_name": "ProgressView",
       "bar_style": "success",
       "description": "",
       "description_tooltip": null,
       "layout": "IPY_MODEL_3ffb9a0c40fd42f68b2bd94524fa36ef",
       "max": 1.0,
       "min": 0.0,
       "orientation": "horizontal",
       "style": "IPY_MODEL_19bd52e81fbc4a5d90fddc5722017736",
       "value": 1.0
      }
     },
     "e4908128bdad4016891baba9cd13265e": {
      "model_module": "@jupyter-widgets/controls",
      "model_module_version": "1.5.0",
      "model_name": "DescriptionStyleModel",
      "state": {
       "_model_module": "@jupyter-widgets/controls",
       "_model_module_version": "1.5.0",
       "_model_name": "DescriptionStyleModel",
       "_view_count": null,
       "_view_module": "@jupyter-widgets/base",
       "_view_module_version": "1.2.0",
       "_view_name": "StyleView",
       "description_width": ""
      }
     },
     "e6f37ca4e0674a358f9439fba3eb04a3": {
      "model_module": "@jupyter-widgets/controls",
      "model_module_version": "1.5.0",
      "model_name": "HTMLModel",
      "state": {
       "_dom_classes": [],
       "_model_module": "@jupyter-widgets/controls",
       "_model_module_version": "1.5.0",
       "_model_name": "HTMLModel",
       "_view_count": null,
       "_view_module": "@jupyter-widgets/controls",
       "_view_module_version": "1.5.0",
       "_view_name": "HTMLView",
       "description": "",
       "description_tooltip": null,
       "layout": "IPY_MODEL_46f324b6af7d4413a5eb58fe0d2a2b1f",
       "placeholder": "​",
       "style": "IPY_MODEL_026cc3b557b9414ca11512401c9b66e8",
       "value": "100%"
      }
     },
     "e7df9fa06ec34314ac37b486e5e0d816": {
      "model_module": "@jupyter-widgets/base",
      "model_module_version": "1.2.0",
      "model_name": "LayoutModel",
      "state": {
       "_model_module": "@jupyter-widgets/base",
       "_model_module_version": "1.2.0",
       "_model_name": "LayoutModel",
       "_view_count": null,
       "_view_module": "@jupyter-widgets/base",
       "_view_module_version": "1.2.0",
       "_view_name": "LayoutView",
       "align_content": null,
       "align_items": null,
       "align_self": null,
       "border": null,
       "bottom": null,
       "display": null,
       "flex": null,
       "flex_flow": null,
       "grid_area": null,
       "grid_auto_columns": null,
       "grid_auto_flow": null,
       "grid_auto_rows": null,
       "grid_column": null,
       "grid_gap": null,
       "grid_row": null,
       "grid_template_areas": null,
       "grid_template_columns": null,
       "grid_template_rows": null,
       "height": null,
       "justify_content": null,
       "justify_items": null,
       "left": null,
       "margin": null,
       "max_height": null,
       "max_width": null,
       "min_height": null,
       "min_width": null,
       "object_fit": null,
       "object_position": null,
       "order": null,
       "overflow": null,
       "overflow_x": null,
       "overflow_y": null,
       "padding": null,
       "right": null,
       "top": null,
       "visibility": null,
       "width": null
      }
     },
     "ed9942ad37c44ce682987b01feb5b5d9": {
      "model_module": "@jupyter-widgets/controls",
      "model_module_version": "1.5.0",
      "model_name": "ProgressStyleModel",
      "state": {
       "_model_module": "@jupyter-widgets/controls",
       "_model_module_version": "1.5.0",
       "_model_name": "ProgressStyleModel",
       "_view_count": null,
       "_view_module": "@jupyter-widgets/base",
       "_view_module_version": "1.2.0",
       "_view_name": "StyleView",
       "bar_color": null,
       "description_width": ""
      }
     },
     "f68da60ed9ca43d9bec910f45746b77d": {
      "model_module": "@jupyter-widgets/base",
      "model_module_version": "1.2.0",
      "model_name": "LayoutModel",
      "state": {
       "_model_module": "@jupyter-widgets/base",
       "_model_module_version": "1.2.0",
       "_model_name": "LayoutModel",
       "_view_count": null,
       "_view_module": "@jupyter-widgets/base",
       "_view_module_version": "1.2.0",
       "_view_name": "LayoutView",
       "align_content": null,
       "align_items": null,
       "align_self": null,
       "border": null,
       "bottom": null,
       "display": null,
       "flex": null,
       "flex_flow": null,
       "grid_area": null,
       "grid_auto_columns": null,
       "grid_auto_flow": null,
       "grid_auto_rows": null,
       "grid_column": null,
       "grid_gap": null,
       "grid_row": null,
       "grid_template_areas": null,
       "grid_template_columns": null,
       "grid_template_rows": null,
       "height": null,
       "justify_content": null,
       "justify_items": null,
       "left": null,
       "margin": null,
       "max_height": null,
       "max_width": null,
       "min_height": null,
       "min_width": null,
       "object_fit": null,
       "object_position": null,
       "order": null,
       "overflow": null,
       "overflow_x": null,
       "overflow_y": null,
       "padding": null,
       "right": null,
       "top": null,
       "visibility": null,
       "width": null
      }
     },
     "f9ad6d5480c047488e0e4f5f64cc60eb": {
      "model_module": "@jupyter-widgets/controls",
      "model_module_version": "1.5.0",
      "model_name": "HBoxModel",
      "state": {
       "_dom_classes": [],
       "_model_module": "@jupyter-widgets/controls",
       "_model_module_version": "1.5.0",
       "_model_name": "HBoxModel",
       "_view_count": null,
       "_view_module": "@jupyter-widgets/controls",
       "_view_module_version": "1.5.0",
       "_view_name": "HBoxView",
       "box_style": "",
       "children": [
        "IPY_MODEL_e6f37ca4e0674a358f9439fba3eb04a3",
        "IPY_MODEL_25a716871288453a9e7b216fb5098b82",
        "IPY_MODEL_ab3fde0816964c43a97b1f90d4aa5976"
       ],
       "layout": "IPY_MODEL_8bf70c4e107e4f239d5a0f2bee535b79"
      }
     },
     "f9f0d06af3a943438be635ea75bc06f6": {
      "model_module": "@jupyter-widgets/controls",
      "model_module_version": "1.5.0",
      "model_name": "FloatProgressModel",
      "state": {
       "_dom_classes": [],
       "_model_module": "@jupyter-widgets/controls",
       "_model_module_version": "1.5.0",
       "_model_name": "FloatProgressModel",
       "_view_count": null,
       "_view_module": "@jupyter-widgets/controls",
       "_view_module_version": "1.5.0",
       "_view_name": "ProgressView",
       "bar_style": "success",
       "description": "",
       "description_tooltip": null,
       "layout": "IPY_MODEL_0faca89930b34527b1368dde9da0d534",
       "max": 1.0,
       "min": 0.0,
       "orientation": "horizontal",
       "style": "IPY_MODEL_dc318b05462648eca91989a6c485e80c",
       "value": 1.0
      }
     },
     "ff1b010e138c417b9ad145957ed7c581": {
      "model_module": "@jupyter-widgets/controls",
      "model_module_version": "1.5.0",
      "model_name": "HBoxModel",
      "state": {
       "_dom_classes": [],
       "_model_module": "@jupyter-widgets/controls",
       "_model_module_version": "1.5.0",
       "_model_name": "HBoxModel",
       "_view_count": null,
       "_view_module": "@jupyter-widgets/controls",
       "_view_module_version": "1.5.0",
       "_view_name": "HBoxView",
       "box_style": "",
       "children": [
        "IPY_MODEL_0c04ef2c2e9a48f781895775c85539c7",
        "IPY_MODEL_abe70585998a41568a280c4beb65970d",
        "IPY_MODEL_66962e65ef0b41ceb64738a53c378e33"
       ],
       "layout": "IPY_MODEL_e7df9fa06ec34314ac37b486e5e0d816"
      }
     }
    },
    "version_major": 2,
    "version_minor": 0
   }
  }
 },
 "nbformat": 4,
 "nbformat_minor": 5
}
